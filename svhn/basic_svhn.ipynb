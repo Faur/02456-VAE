{
 "cells": [
  {
   "cell_type": "code",
   "execution_count": 2,
   "metadata": {
    "collapsed": false
   },
   "outputs": [
    {
     "name": "stdout",
     "output_type": "stream",
     "text": [
      "2.7.12 |Continuum Analytics, Inc.| (default, Jun 29 2016, 11:07:13) [MSC v.1500 64 bit (AMD64)]\n"
     ]
    },
    {
     "name": "stderr",
     "output_type": "stream",
     "text": [
      "Using gpu device 0: GeForce GTX 950M (CNMeM is enabled with initial size: 75.0% of memory, cuDNN 5004)\n"
     ]
    },
    {
     "name": "stdout",
     "output_type": "stream",
     "text": [
      "Wall time: 28 s\n"
     ]
    }
   ],
   "source": [
    "%%time\n",
    "# Python 2.7\n",
    "\n",
    "%matplotlib nbagg\n",
    "%matplotlib inline \n",
    "\n",
    "import sys\n",
    "sys.path\n",
    "sys.path.append('..')\n",
    "print(sys.version)\n",
    "\n",
    "import os\n",
    "import cPickle \n",
    "import scipy.io\n",
    "import numpy as np\n",
    "import matplotlib.pyplot as plt\n",
    "import theano\n",
    "import theano.tensor as T\n",
    "import lasagne \n",
    "import lasagne.layers as L\n",
    "\n",
    "from sklearn.utils import shuffle\n",
    "\n",
    "import tools as tls\n",
    "\n",
    "\n",
    "from data_loaders import svhn\n",
    "\n"
   ]
  },
  {
   "cell_type": "code",
   "execution_count": 6,
   "metadata": {
    "collapsed": false
   },
   "outputs": [
    {
     "name": "stdout",
     "output_type": "stream",
     "text": [
      "C:\\Users\\tokee\\Dropbox\\SchoolWork\\BSc5_DTU\\DL\\VAE\\code\\kingma\\data\\data_c3.pkl\n"
     ]
    }
   ],
   "source": [
    "### GLOBAL PARAMETERS ###\n",
    "\n",
    "### META - HOW THE PROGRAM WORKS\n",
    "file_name = 'data_c3'\n",
    "\n",
    "\n",
    "### HYPER PARAMETERS\n",
    "# eq_size = 1\n",
    "# iw_size = 1\n",
    "batch_size = 128\n",
    "max_epoch = 100\n",
    "\n",
    "\n",
    "learning_rate = 1e-2\n",
    "L1 = 0\n",
    "L2 = 0\n",
    "\n"
   ]
  },
  {
   "cell_type": "code",
   "execution_count": 10,
   "metadata": {
    "collapsed": false
   },
   "outputs": [
    {
     "name": "stdout",
     "output_type": "stream",
     "text": [
      "C:\\Users\\tokee\\Dropbox\\SchoolWork\\BSc5_DTU\\DL\\VAE\\code\\kingma\\data\\data_c3.pkl\n",
      "\n",
      "('Train shape: ', (32943L, 3072L), (32943L, 10L))\n",
      "<class 'theano.sandbox.cuda.var.CudaNdarraySharedVariable'>\n",
      "('Valid shape: ', (2258L, 3072L), (2258L, 10L))\n",
      "<class 'theano.sandbox.cuda.var.CudaNdarraySharedVariable'>\n",
      "('Test shape:  ', (12130L, 3072L), (12130L, 10L))\n",
      "<class 'theano.sandbox.cuda.var.CudaNdarraySharedVariable'>\n",
      "\n",
      "Wall time: 1.16 s\n"
     ]
    }
   ],
   "source": [
    "%%time\n",
    "\n",
    "### LOAD DATA\n",
    "full_path = os.path.join(os.getcwd(), 'data')\n",
    "full_path = os.path.join(full_path, file_name)\n",
    "full_path  += '.pkl'\n",
    "print(full_path)\n",
    "\n",
    "import cPickle as pickle\n",
    "with open(full_path, 'rb') as f:\n",
    "    x_trai, t_trai, x_vali, t_vali, x_test, t_test = pickle.load(f)\n",
    "\n",
    "print('')\n",
    "print('Train shape: ', \n",
    "      x_trai.get_value().shape, t_trai.eval().shape)\n",
    "print(type(x_trai))\n",
    "\n",
    "print('Valid shape: ', \n",
    "      x_vali.get_value().shape, t_vali.eval().shape)\n",
    "print(type(x_vali))\n",
    "\n",
    "print('Test shape:  ', \n",
    "      x_test.get_value().shape, t_test.eval().shape)\n",
    "print(type(x_test))\n",
    "print('')"
   ]
  },
  {
   "cell_type": "code",
   "execution_count": null,
   "metadata": {
    "collapsed": true
   },
   "outputs": [],
   "source": []
  }
 ],
 "metadata": {
  "anaconda-cloud": {},
  "kernelspec": {
   "display_name": "Python [Root]",
   "language": "python",
   "name": "Python [Root]"
  },
  "language_info": {
   "codemirror_mode": {
    "name": "ipython",
    "version": 2
   },
   "file_extension": ".py",
   "mimetype": "text/x-python",
   "name": "python",
   "nbconvert_exporter": "python",
   "pygments_lexer": "ipython2",
   "version": "2.7.12"
  }
 },
 "nbformat": 4,
 "nbformat_minor": 0
}

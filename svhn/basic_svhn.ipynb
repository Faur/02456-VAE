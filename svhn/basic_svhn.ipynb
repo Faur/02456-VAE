{
 "cells": [
  {
   "cell_type": "code",
   "execution_count": 36,
   "metadata": {
    "collapsed": false
   },
   "outputs": [
    {
     "name": "stdout",
     "output_type": "stream",
     "text": [
      "2.7.12 |Continuum Analytics, Inc.| (default, Jun 29 2016, 11:07:13) [MSC v.1500 64 bit (AMD64)]\n"
     ]
    }
   ],
   "source": [
    "# %%time\n",
    "# Python 2.7\n",
    "\n",
    "%matplotlib nbagg\n",
    "%matplotlib inline \n",
    "\n",
    "import sys\n",
    "sys.path.append('..')\n",
    "print(sys.version)\n",
    "\n",
    "import os\n",
    "import cPickle \n",
    "import scipy.io\n",
    "import numpy as np\n",
    "import matplotlib\n",
    "matplotlib.use('AGG')\n",
    "import matplotlib.pyplot as plt\n",
    "import theano\n",
    "import theano.tensor as T\n",
    "import lasagne \n",
    "import lasagne.layers as L\n",
    "import parmesan\n",
    "import cPickle as pickle\n",
    "\n",
    "from sklearn.utils import shuffle\n",
    "\n",
    "import tools as tls\n",
    "from data_loaders import svhn\n",
    "\n"
   ]
  },
  {
   "cell_type": "code",
   "execution_count": 37,
   "metadata": {
    "collapsed": false
   },
   "outputs": [
    {
     "name": "stdout",
     "output_type": "stream",
     "text": [
      "dataset = MNIST\n"
     ]
    }
   ],
   "source": [
    "### GLOBAL PARAMETERS ###\n",
    "plot_train   = True\n",
    "using_shared = False\n",
    "\n",
    "### META - HOW THE PROGRAM WORKS\n",
    "file_name = 'data_no_share_c3' # assumes '.pkl'\n",
    "\n",
    "np.random.seed(1234) # reproducibility\n",
    "\n",
    "\n",
    "### CONSTANTS\n",
    "dataset = 'MNIST'\n",
    "print('dataset = {}'.format(dataset))\n",
    "\n",
    "if dataset == 'SVHN':    \n",
    "    IMG_LEN = 32\n",
    "    IMG_DEPTH = 3\n",
    "    cmap = None\n",
    "elif dataset == 'MNIST':\n",
    "    IMG_LEN = 28\n",
    "    IMG_DEPTH = 1\n",
    "    cmap = 'gray'\n",
    "    \n"
   ]
  },
  {
   "cell_type": "code",
   "execution_count": 38,
   "metadata": {
    "collapsed": true
   },
   "outputs": [],
   "source": [
    "### PLOT SETTINGS\n",
    "\n",
    "plt.rcParams[\"figure.figsize\"] = (8,5)\n",
    "font_size = 15\n",
    "plt.rc('font',   size=font_size)       # controls default text sizes\n",
    "plt.rc('axes',   titlesize=font_size)  # fontsize of the axes title\n",
    "plt.rc('axes',   labelsize=font_size)  # fontsize of the x any y labels\n",
    "plt.rc('xtick',  labelsize=font_size)  # fontsize of the tick labels\n",
    "plt.rc('ytick',  labelsize=font_size)  # fontsize of the tick labels\n",
    "plt.rc('legend', fontsize=font_size)   # legend fontsize\n",
    "plt.rc('figure', titlesize=font_size)  # # size of the figure title\n"
   ]
  },
  {
   "cell_type": "code",
   "execution_count": 39,
   "metadata": {
    "collapsed": false
   },
   "outputs": [
    {
     "name": "stdout",
     "output_type": "stream",
     "text": [
      "Size of total dataset: 225.12 MB\n",
      "Wall time: 885 ms\n"
     ]
    }
   ],
   "source": [
    "%%time\n",
    "### LOAD DATA\n",
    "\n",
    "if dataset == 'SVHN':\n",
    "    full_path = os.path.join(os.getcwd(), 'data')\n",
    "    full_path = os.path.join(full_path, file_name)\n",
    "    full_path  += '.pkl'\n",
    "    print(full_path)\n",
    "\n",
    "    with open(full_path, 'rb') as f:\n",
    "        x_trai, t_trai, x_vali, t_vali, x_test, t_test = pickle.load(f)\n",
    "\n",
    "    x_trai = x_trai/255\n",
    "    x_vali = x_vali/255\n",
    "    x_test = x_test/255\n",
    "\n",
    "\n",
    "elif dataset == 'MNIST':\n",
    "    full_path = os.path.join(os.getcwd(), 'data')\n",
    "    full_path = os.path.join(full_path  , 'mnist.npz')\n",
    "\n",
    "    data = np.load(full_path)\n",
    "    num_classes = 10\n",
    "    x_trai = data['X_train'].astype('float32')\n",
    "    t_trai = data['y_train'].astype('int32')\n",
    "\n",
    "    x_vali = data['X_valid'].astype('float32')\n",
    "    t_vali = data['y_valid'].astype('int32')\n",
    "\n",
    "    x_test = data['X_test'].astype('float32')\n",
    "    t_test = data['y_test'].astype('int32')\n",
    "\n",
    "\n",
    "    t_trai = tls.onehot(t_trai, 10)\n",
    "    t_vali = tls.onehot(t_vali, 10)\n",
    "    t_test = tls.onehot(t_test, 10)\n",
    "\n",
    "    \n",
    "    \n",
    "print('Size of total dataset: {:.2f} MB'.format(\n",
    "        (\n",
    "              sys.getsizeof(x_trai)\n",
    "            + sys.getsizeof(t_trai)\n",
    "            + sys.getsizeof(x_vali)\n",
    "            + sys.getsizeof(t_vali)\n",
    "            + sys.getsizeof(x_test)\n",
    "            + sys.getsizeof(t_test)\n",
    "        )/1.0e6))\n"
   ]
  },
  {
   "cell_type": "code",
   "execution_count": 40,
   "metadata": {
    "collapsed": false
   },
   "outputs": [
    {
     "name": "stdout",
     "output_type": "stream",
     "text": [
      "Number of classes 10\n",
      "Number of features 784\n",
      "\n",
      "('Train shape: ', (50000L, 784L), (50000L, 10L))\n",
      "('Valid shape: ', (10000L, 784L), (10000L, 10L))\n",
      "('Test shape:  ', (10000L, 784L), (10000L, 10L))\n",
      "<type 'numpy.ndarray'>\n",
      "<type 'numpy.ndarray'>\n",
      "<type 'numpy.ndarray'>\n",
      "\n",
      "Prior\n",
      "[ 0.09864  0.11356  0.09936  0.10202  0.09718  0.09012  0.09902  0.1035\n",
      "  0.09684  0.09976]\n",
      "[ 0.098   0.1135  0.1032  0.101   0.0982  0.0892  0.0958  0.1028  0.0974\n",
      "  0.1009]\n"
     ]
    }
   ],
   "source": [
    "### CHECK DATA\n",
    "num_classes = np.unique(np.where(t_trai == 1)[1]).shape[0]\n",
    "print('Number of classes {}'.format(num_classes))\n",
    "\n",
    "num_features = x_trai[0].shape[0]\n",
    "print('Number of features {}'.format(num_features))\n",
    "\n",
    "print('')\n",
    "print('Train shape: ', \n",
    "      x_trai.shape, t_trai.shape)\n",
    "\n",
    "print('Valid shape: ', \n",
    "      x_vali.shape, t_vali.shape)\n",
    "\n",
    "print('Test shape:  ', \n",
    "      x_test.shape, t_test.shape)\n",
    "\n",
    "print('{}'.format(type(x_trai)))\n",
    "print('{}'.format(type(x_vali)))\n",
    "print('{}'.format(type(x_test)))\n",
    "print('')\n",
    "\n",
    "print('Prior')\n",
    "print(np.sum(t_trai, axis=0)/t_trai.shape[0])\n",
    "print(np.sum(t_test, axis=0)/t_test.shape[0])\n",
    "\n",
    "\n"
   ]
  },
  {
   "cell_type": "code",
   "execution_count": 43,
   "metadata": {
    "collapsed": false
   },
   "outputs": [
    {
     "name": "stdout",
     "output_type": "stream",
     "text": [
      "[[ 0.  0.  0.  1.  0.  0.  0.  0.  0.  0.]\n",
      " [ 0.  0.  0.  0.  0.  0.  0.  0.  1.  0.]\n",
      " [ 0.  0.  0.  0.  0.  0.  1.  0.  0.  0.]\n",
      " [ 0.  0.  0.  0.  0.  0.  0.  0.  0.  1.]\n",
      " [ 0.  0.  0.  0.  0.  0.  1.  0.  0.  0.]\n",
      " [ 0.  0.  0.  0.  1.  0.  0.  0.  0.  0.]\n",
      " [ 0.  0.  0.  0.  0.  1.  0.  0.  0.  0.]\n",
      " [ 0.  0.  0.  1.  0.  0.  0.  0.  0.  0.]\n",
      " [ 0.  0.  0.  0.  0.  0.  0.  0.  1.  0.]\n",
      " [ 0.  0.  0.  0.  1.  0.  0.  0.  0.  0.]]\n",
      "[5 0 4 1 9 2 1 3 1 4]\n",
      "\n",
      "Maximum training value: \n"
     ]
    }
   ],
   "source": [
    "### Ensure that we have one hot encoding, and that the \n",
    "print(t_vali[:10,:])\n",
    "print(np.where(t_trai == 1)[1][:10])\n",
    "\n",
    "# If you don't get a 10xNUM_CLASS matrix, and a list with the index of the 1 of\n",
    "# each row, something went wrong.\n",
    "\n",
    "\n",
    "### Ensure that the data is scalled appropriately (between 0 and 1)\n",
    "\n",
    "print('\\nMaximum training value: '.format(np.max(x_trai)))\n",
    "if np.max(x_trai) > 1:\n",
    "    print('WARNING!! Maximum value in input data is {}'.format(np.max(x_trai)))"
   ]
  },
  {
   "cell_type": "code",
   "execution_count": 35,
   "metadata": {
    "collapsed": false
   },
   "outputs": [
    {
     "data": {
      "image/png": "[encoded data removed]",
      "text/plain": [
       "<matplotlib.figure.Figure at 0x1bf04550>"
      ]
     },
     "metadata": {},
     "output_type": "display_data"
    },
    {
     "name": "stdout",
     "output_type": "stream",
     "text": [
      "[[ 1.  0.  6.  0.  0.  9.]\n",
      " [ 2.  6.  1.  0.  7.  7.]\n",
      " [ 9.  5.  6.  8.  7.  8.]\n",
      " [ 7.  3.  4.  7.  1.  6.]\n",
      " [ 3.  1.  3.  0.  8.  1.]\n",
      " [ 1.  2.  1.  5.  0.  9.]]\n"
     ]
    }
   ],
   "source": [
    "### VISUALIZE \n",
    "canv, lab = tls.plot_svhn(x_trai, t_trai, t=6, IMG_LEN=IMG_LEN, \n",
    "                          IMG_DEPTH=IMG_DEPTH, cmap=cmap)\n",
    "\n",
    "fig, ax = plt.subplots(1,2, figsize=(10,10))\n",
    "ax[0].imshow(canv, cmap=cmap, interpolation='nearest')\n",
    "ax[1].imshow(canv, cmap=cmap, interpolation='None')\n",
    "\n",
    "ax[0].set_title('Data visualization')\n",
    "ax[0].axis('off')\n",
    "ax[1].axis('off')\n",
    "plt.tight_layout()\n",
    "plt.show()\n",
    "\n",
    "print(lab)\n",
    "# tls.plot_svhn(x_trai, t_trai, t=6, IMG_LEN=IMG_LEN, IMG_DEPTH=IMG_DEPTH,\n",
    "#                    gray=True)\n",
    "    # If you get all black, consider changing "
   ]
  },
  {
   "cell_type": "code",
   "execution_count": 8,
   "metadata": {
    "collapsed": false
   },
   "outputs": [],
   "source": [
    "### HYPER PARAMETERS\n",
    "# VOLATILE HP\n",
    "learning_rate = 1e-5\n",
    "L1 = 0\n",
    "L2 = 0\n",
    "\n",
    "samples_to_process = 1e7\n",
    "val_interval       = 1e4\n",
    "batch_size         = 1e2\n",
    "\n",
    "if not val_interval/batch_size % 1 == 0:\n",
    "    print('WARNING: val_interval must be divisible by batch_size')\n",
    "    print('No validation will be performed with current settings')\n",
    "\n",
    "\n",
    "# ARCHITECTURE\n",
    "num_latent_1 = num_classes*50\n",
    "hid_size = 1000\n",
    "\n",
    "\n",
    "# STABLE HP\n",
    "eq_size = 1\n",
    "iw_size = 1\n"
   ]
  },
  {
   "cell_type": "code",
   "execution_count": 9,
   "metadata": {
    "collapsed": true
   },
   "outputs": [],
   "source": [
    "### HELPER FUNCTIONS\n",
    "from lasagne.objectives import squared_error\n",
    "\n",
    "# c = -0.5 * np.log(2*np.pi)\n",
    "clip = lambda x: T.clip(x,-10,10) #used to limit the variance (why?)\n",
    "\n",
    "def log_bernoulli(x, p, eps=1e-7):\n",
    "    \"\"\"\n",
    "    Computes the binary cross-entropy between a target and \n",
    "\n",
    "    Use eps if you don't want to alow values ==0, ==1\n",
    "    \"\"\"\n",
    "\n",
    "    p = T.clip(p, eps, 1.0 - eps)\n",
    "    return -T.nnet.binary_crossentropy(p, x)\n",
    "\n",
    "\n",
    "\n",
    "def kl_normal_2_stdnormal(mu, lv):\n",
    "    \"\"\"Compute the KL divergence from the standard normal dist\"\"\"\n",
    "    return - 0.5 * (1 + lv - mu**2 - T.exp(lv))\n",
    "\n",
    "\n",
    "def LogLikelihood(mux, x, muq, lvq):\n",
    "    \"\"\"\n",
    "    Compute the mean const of a set of examples\n",
    "    \"\"\"\n",
    "    #Sum over the latent dimension, mean over the the samples\n",
    "    reconstruction_cost = log_bernoulli(x, mux).sum(axis=1).mean()\n",
    "    KL_qp = kl_normal_2_stdnormal(muq, lvq).sum(axis=1).mean()\n",
    "        \n",
    "    LL = (reconstruction_cost- KL_qp)/(IMG_LEN*IMG_LEN) \n",
    "#     print('{:10.0f}:{:10.0f}:{:10.0f}'.format(LL, reconstruction_cost, KL_qp))\n",
    "    print('{}:{}:{}'.format(LL, reconstruction_cost, KL_qp))\n",
    "    \n",
    "    return LL, reconstruction_cost, KL_qp\n",
    "    "
   ]
  },
  {
   "cell_type": "code",
   "execution_count": 10,
   "metadata": {
    "collapsed": false
   },
   "outputs": [
    {
     "name": "stdout",
     "output_type": "stream",
     "text": [
      "Wall time: 108 ms\n"
     ]
    }
   ],
   "source": [
    "%%time\n",
    "### CREATE MODEL\n",
    "from lasagne.nonlinearities import leaky_rectify, rectify, sigmoid\n",
    "from parmesan.layers import SampleLayer\n",
    "\n",
    "\n",
    "### ENCODER\n",
    "l_in_x   = L.InputLayer(shape=(None, num_features), name='l_in_x')\n",
    "l_in_norm= L.BatchNormLayer(l_in_x)\n",
    "\n",
    "l_en_1   = L.DenseLayer(l_in_norm, \n",
    "                        num_units=hid_size,\n",
    "                        nonlinearity=rectify,\n",
    "                        name='l_en_1')\n",
    "# l_en_2   = L.DenseLayer(l_en_1,\n",
    "#                         num_units=hid_size,\n",
    "#                         nonlinearity=rectify,\n",
    "#                         name='l_en_2')\n",
    "\n",
    "### Create latent parameters\n",
    "l_mu_1   = L.DenseLayer(l_en_1,\n",
    "                        num_units=num_latent_1,\n",
    "                        nonlinearity=None,\n",
    "                        name='l_mu_1')\n",
    "l_lv_1   = L.DenseLayer(l_en_1,\n",
    "                        num_units=num_latent_1,\n",
    "                        nonlinearity=clip,\n",
    "                        name='l_lv_1')\n",
    "\n",
    "### sample a latent representation:\n",
    "#    z ~ q(z|x) = N(mu(x), logvar(x)\n",
    "l_z_1      = SampleLayer(mean=l_mu_1, \n",
    "                         log_var=l_lv_1, \n",
    "                         eq_samples=eq_size, \n",
    "                         iw_samples=iw_size, \n",
    "                         name='l_z_1')\n",
    "\n",
    "### DECODER\n",
    "l_in_z   = L.InputLayer(shape=(None, num_latent_1), \n",
    "                        name = 'l_in_z')\n",
    "l_dec_1  = L.DenseLayer(l_in_z, \n",
    "                        num_units = hid_size,\n",
    "                        nonlinearity = rectify,\n",
    "                        name = 'l_dec_1')\n",
    "# l_dec_2  = L.DenseLayer(l_dec_1, \n",
    "#                         num_units = hid_size,\n",
    "#                         nonlinearity = rectify,\n",
    "#                        name='l_dec_2')\n",
    "\n",
    "# Sigmoid is used because the original images are $\\in [0,1]$\n",
    "l_out    = L.DenseLayer(l_dec_1, \n",
    "                        num_units=num_features,\n",
    "                        nonlinearity=sigmoid,\n",
    "                        name='l_out')"
   ]
  },
  {
   "cell_type": "code",
   "execution_count": 11,
   "metadata": {
    "collapsed": false
   },
   "outputs": [
    {
     "name": "stdout",
     "output_type": "stream",
     "text": [
      "Elemwise{true_div,no_inplace}.0:mean:mean\n",
      "Elemwise{true_div,no_inplace}.0:mean:mean\n"
     ]
    }
   ],
   "source": [
    "# %%time\n",
    "### CREATE INTERFACE VARIABLES\n",
    "\n",
    "sym_x = T.matrix('x') # (batch_size x 3072)\n",
    "sym_z = T.matrix('z') # Latent variable (batch_size x num_latent)\n",
    "\n",
    "# Training variables\n",
    "z_train, mu_train, lv_train = L.get_output([l_z_1, l_mu_1, l_lv_1],\n",
    "                                           {l_in_x:sym_x}, \n",
    "                                           deterministic = False)\n",
    "out_train                   = L.get_output(l_out,\n",
    "                                           {l_in_z:z_train}, \n",
    "                                           deterministic = False)\n",
    "\n",
    "# Test variables\n",
    "z_eval, mu_eval, lv_eval    = L.get_output([l_z_1, l_mu_1, l_lv_1],\n",
    "                                           {l_in_x:sym_x},\n",
    "                                           deterministic = True)\n",
    "out_eval                    = L.get_output(l_out,\n",
    "                                           {l_in_z:z_eval}, \n",
    "                                           deterministic = True)\n",
    "\n",
    "# For generating artificial data (samples)\n",
    "mux_sample               = L.get_output(l_out, {l_in_z: sym_z})\n",
    "\n",
    "# Copute the cost\n",
    "LL_train, log_px_train, KL_train = \\\n",
    "    LogLikelihood(out_train, sym_x, mu_train, lv_train)\n",
    "\n",
    "LL_eval, log_px_eval, KL_eval = \\\n",
    "    LogLikelihood(out_eval, sym_x, mu_eval, lv_eval)\n",
    "\n"
   ]
  },
  {
   "cell_type": "code",
   "execution_count": 12,
   "metadata": {
    "collapsed": false
   },
   "outputs": [
    {
     "ename": "KeyboardInterrupt",
     "evalue": "",
     "output_type": "error",
     "traceback": [
      "\u001b[1;31m---------------------------------------------------------------------------\u001b[0m",
      "\u001b[1;31mKeyboardInterrupt\u001b[0m                         Traceback (most recent call last)",
      "\u001b[1;32m<ipython-input-12-f5323bee12de>\u001b[0m in \u001b[0;36m<module>\u001b[1;34m()\u001b[0m\n\u001b[0;32m     11\u001b[0m f_train = theano.function(inputs=[sym_x],\n\u001b[0;32m     12\u001b[0m                           \u001b[0moutputs\u001b[0m\u001b[1;33m=\u001b[0m\u001b[1;33m[\u001b[0m\u001b[0mLL_train\u001b[0m\u001b[1;33m,\u001b[0m \u001b[0mlog_px_train\u001b[0m\u001b[1;33m,\u001b[0m \u001b[0mKL_train\u001b[0m\u001b[1;33m]\u001b[0m\u001b[1;33m,\u001b[0m\u001b[1;33m\u001b[0m\u001b[0m\n\u001b[1;32m---> 13\u001b[1;33m                           updates=updates)\n\u001b[0m\u001b[0;32m     14\u001b[0m \u001b[1;33m\u001b[0m\u001b[0m\n\u001b[0;32m     15\u001b[0m \u001b[1;31m# Evaluation function: Return loss\u001b[0m\u001b[1;33m\u001b[0m\u001b[1;33m\u001b[0m\u001b[0m\n",
      "\u001b[1;32mC:\\Anaconda\\lib\\site-packages\\theano\\compile\\function.pyc\u001b[0m in \u001b[0;36mfunction\u001b[1;34m(inputs, outputs, mode, updates, givens, no_default_updates, accept_inplace, name, rebuild_strict, allow_input_downcast, profile, on_unused_input)\u001b[0m\n\u001b[0;32m    324\u001b[0m                    \u001b[0mon_unused_input\u001b[0m\u001b[1;33m=\u001b[0m\u001b[0mon_unused_input\u001b[0m\u001b[1;33m,\u001b[0m\u001b[1;33m\u001b[0m\u001b[0m\n\u001b[0;32m    325\u001b[0m                    \u001b[0mprofile\u001b[0m\u001b[1;33m=\u001b[0m\u001b[0mprofile\u001b[0m\u001b[1;33m,\u001b[0m\u001b[1;33m\u001b[0m\u001b[0m\n\u001b[1;32m--> 326\u001b[1;33m                    output_keys=output_keys)\n\u001b[0m\u001b[0;32m    327\u001b[0m     \u001b[1;31m# We need to add the flag check_aliased inputs if we have any mutable or\u001b[0m\u001b[1;33m\u001b[0m\u001b[1;33m\u001b[0m\u001b[0m\n\u001b[0;32m    328\u001b[0m     \u001b[1;31m# borrowed used defined inputs\u001b[0m\u001b[1;33m\u001b[0m\u001b[1;33m\u001b[0m\u001b[0m\n",
      "\u001b[1;32mC:\\Anaconda\\lib\\site-packages\\theano\\compile\\pfunc.pyc\u001b[0m in \u001b[0;36mpfunc\u001b[1;34m(params, outputs, mode, updates, givens, no_default_updates, accept_inplace, name, rebuild_strict, allow_input_downcast, profile, on_unused_input, output_keys)\u001b[0m\n\u001b[0;32m    482\u001b[0m                          \u001b[0maccept_inplace\u001b[0m\u001b[1;33m=\u001b[0m\u001b[0maccept_inplace\u001b[0m\u001b[1;33m,\u001b[0m \u001b[0mname\u001b[0m\u001b[1;33m=\u001b[0m\u001b[0mname\u001b[0m\u001b[1;33m,\u001b[0m\u001b[1;33m\u001b[0m\u001b[0m\n\u001b[0;32m    483\u001b[0m                          \u001b[0mprofile\u001b[0m\u001b[1;33m=\u001b[0m\u001b[0mprofile\u001b[0m\u001b[1;33m,\u001b[0m \u001b[0mon_unused_input\u001b[0m\u001b[1;33m=\u001b[0m\u001b[0mon_unused_input\u001b[0m\u001b[1;33m,\u001b[0m\u001b[1;33m\u001b[0m\u001b[0m\n\u001b[1;32m--> 484\u001b[1;33m                          output_keys=output_keys)\n\u001b[0m\u001b[0;32m    485\u001b[0m \u001b[1;33m\u001b[0m\u001b[0m\n\u001b[0;32m    486\u001b[0m \u001b[1;33m\u001b[0m\u001b[0m\n",
      "\u001b[1;32mC:\\Anaconda\\lib\\site-packages\\theano\\compile\\function_module.pyc\u001b[0m in \u001b[0;36morig_function\u001b[1;34m(inputs, outputs, mode, accept_inplace, name, profile, on_unused_input, output_keys)\u001b[0m\n\u001b[0;32m   1787\u001b[0m                    \u001b[0mon_unused_input\u001b[0m\u001b[1;33m=\u001b[0m\u001b[0mon_unused_input\u001b[0m\u001b[1;33m,\u001b[0m\u001b[1;33m\u001b[0m\u001b[0m\n\u001b[0;32m   1788\u001b[0m                    \u001b[0moutput_keys\u001b[0m\u001b[1;33m=\u001b[0m\u001b[0moutput_keys\u001b[0m\u001b[1;33m)\u001b[0m\u001b[1;33m.\u001b[0m\u001b[0mcreate\u001b[0m\u001b[1;33m(\u001b[0m\u001b[1;33m\u001b[0m\u001b[0m\n\u001b[1;32m-> 1789\u001b[1;33m             defaults)\n\u001b[0m\u001b[0;32m   1790\u001b[0m \u001b[1;33m\u001b[0m\u001b[0m\n\u001b[0;32m   1791\u001b[0m     \u001b[0mt2\u001b[0m \u001b[1;33m=\u001b[0m \u001b[0mtime\u001b[0m\u001b[1;33m.\u001b[0m\u001b[0mtime\u001b[0m\u001b[1;33m(\u001b[0m\u001b[1;33m)\u001b[0m\u001b[1;33m\u001b[0m\u001b[0m\n",
      "\u001b[1;32mC:\\Anaconda\\lib\\site-packages\\theano\\compile\\function_module.pyc\u001b[0m in \u001b[0;36mcreate\u001b[1;34m(self, input_storage, trustme, storage_map)\u001b[0m\n\u001b[0;32m   1651\u001b[0m             \u001b[0mtheano\u001b[0m\u001b[1;33m.\u001b[0m\u001b[0mconfig\u001b[0m\u001b[1;33m.\u001b[0m\u001b[0mtraceback\u001b[0m\u001b[1;33m.\u001b[0m\u001b[0mlimit\u001b[0m \u001b[1;33m=\u001b[0m \u001b[0mtheano\u001b[0m\u001b[1;33m.\u001b[0m\u001b[0mconfig\u001b[0m\u001b[1;33m.\u001b[0m\u001b[0mtraceback\u001b[0m\u001b[1;33m.\u001b[0m\u001b[0mcompile_limit\u001b[0m\u001b[1;33m\u001b[0m\u001b[0m\n\u001b[0;32m   1652\u001b[0m             _fn, _i, _o = self.linker.make_thunk(\n\u001b[1;32m-> 1653\u001b[1;33m                 input_storage=input_storage_lists, storage_map=storage_map)\n\u001b[0m\u001b[0;32m   1654\u001b[0m         \u001b[1;32mfinally\u001b[0m\u001b[1;33m:\u001b[0m\u001b[1;33m\u001b[0m\u001b[0m\n\u001b[0;32m   1655\u001b[0m             \u001b[0mtheano\u001b[0m\u001b[1;33m.\u001b[0m\u001b[0mconfig\u001b[0m\u001b[1;33m.\u001b[0m\u001b[0mtraceback\u001b[0m\u001b[1;33m.\u001b[0m\u001b[0mlimit\u001b[0m \u001b[1;33m=\u001b[0m \u001b[0mlimit_orig\u001b[0m\u001b[1;33m\u001b[0m\u001b[0m\n",
      "\u001b[1;32mC:\\Anaconda\\lib\\site-packages\\theano\\gof\\link.pyc\u001b[0m in \u001b[0;36mmake_thunk\u001b[1;34m(self, input_storage, output_storage, storage_map)\u001b[0m\n\u001b[0;32m    697\u001b[0m         return self.make_all(input_storage=input_storage,\n\u001b[0;32m    698\u001b[0m                              \u001b[0moutput_storage\u001b[0m\u001b[1;33m=\u001b[0m\u001b[0moutput_storage\u001b[0m\u001b[1;33m,\u001b[0m\u001b[1;33m\u001b[0m\u001b[0m\n\u001b[1;32m--> 699\u001b[1;33m                              storage_map=storage_map)[:3]\n\u001b[0m\u001b[0;32m    700\u001b[0m \u001b[1;33m\u001b[0m\u001b[0m\n\u001b[0;32m    701\u001b[0m     \u001b[1;32mdef\u001b[0m \u001b[0mmake_all\u001b[0m\u001b[1;33m(\u001b[0m\u001b[0mself\u001b[0m\u001b[1;33m,\u001b[0m \u001b[0minput_storage\u001b[0m\u001b[1;33m,\u001b[0m \u001b[0moutput_storage\u001b[0m\u001b[1;33m)\u001b[0m\u001b[1;33m:\u001b[0m\u001b[1;33m\u001b[0m\u001b[0m\n",
      "\u001b[1;32mC:\\Anaconda\\lib\\site-packages\\theano\\gof\\vm.pyc\u001b[0m in \u001b[0;36mmake_all\u001b[1;34m(self, profiler, input_storage, output_storage, storage_map)\u001b[0m\n\u001b[0;32m   1049\u001b[0m                                                  \u001b[0mstorage_map\u001b[0m\u001b[1;33m,\u001b[0m\u001b[1;33m\u001b[0m\u001b[0m\n\u001b[0;32m   1050\u001b[0m                                                  \u001b[0mcompute_map\u001b[0m\u001b[1;33m,\u001b[0m\u001b[1;33m\u001b[0m\u001b[0m\n\u001b[1;32m-> 1051\u001b[1;33m                                                  no_recycling))\n\u001b[0m\u001b[0;32m   1052\u001b[0m                 \u001b[1;32mif\u001b[0m \u001b[1;32mnot\u001b[0m \u001b[0mhasattr\u001b[0m\u001b[1;33m(\u001b[0m\u001b[0mthunks\u001b[0m\u001b[1;33m[\u001b[0m\u001b[1;33m-\u001b[0m\u001b[1;36m1\u001b[0m\u001b[1;33m]\u001b[0m\u001b[1;33m,\u001b[0m \u001b[1;34m'lazy'\u001b[0m\u001b[1;33m)\u001b[0m\u001b[1;33m:\u001b[0m\u001b[1;33m\u001b[0m\u001b[0m\n\u001b[0;32m   1053\u001b[0m                     \u001b[1;31m# We don't want all ops maker to think about lazy Ops.\u001b[0m\u001b[1;33m\u001b[0m\u001b[1;33m\u001b[0m\u001b[0m\n",
      "\u001b[1;32mC:\\Anaconda\\lib\\site-packages\\theano\\sandbox\\cuda\\__init__.pyc\u001b[0m in \u001b[0;36mmake_thunk\u001b[1;34m(self, node, storage_map, compute_map, no_recycling)\u001b[0m\n\u001b[0;32m    255\u001b[0m                 enable_cuda=False)\n\u001b[0;32m    256\u001b[0m         return super(GpuOp, self).make_thunk(node, storage_map,\n\u001b[1;32m--> 257\u001b[1;33m                                              compute_map, no_recycling)\n\u001b[0m\u001b[0;32m    258\u001b[0m \u001b[1;33m\u001b[0m\u001b[0m\n\u001b[0;32m    259\u001b[0m theano.compile.debugmode.default_make_thunk.append(\n",
      "\u001b[1;32mC:\\Anaconda\\lib\\site-packages\\theano\\gof\\op.pyc\u001b[0m in \u001b[0;36mmake_thunk\u001b[1;34m(self, node, storage_map, compute_map, no_recycling)\u001b[0m\n\u001b[0;32m    930\u001b[0m             \u001b[1;32mtry\u001b[0m\u001b[1;33m:\u001b[0m\u001b[1;33m\u001b[0m\u001b[0m\n\u001b[0;32m    931\u001b[0m                 return self.make_c_thunk(node, storage_map, compute_map,\n\u001b[1;32m--> 932\u001b[1;33m                                          no_recycling)\n\u001b[0m\u001b[0;32m    933\u001b[0m             \u001b[1;32mexcept\u001b[0m \u001b[1;33m(\u001b[0m\u001b[0mNotImplementedError\u001b[0m\u001b[1;33m,\u001b[0m \u001b[0mutils\u001b[0m\u001b[1;33m.\u001b[0m\u001b[0mMethodNotDefined\u001b[0m\u001b[1;33m)\u001b[0m\u001b[1;33m:\u001b[0m\u001b[1;33m\u001b[0m\u001b[0m\n\u001b[0;32m    934\u001b[0m                 \u001b[0mlogger\u001b[0m\u001b[1;33m.\u001b[0m\u001b[0mdebug\u001b[0m\u001b[1;33m(\u001b[0m\u001b[1;34m'Falling back on perform'\u001b[0m\u001b[1;33m)\u001b[0m\u001b[1;33m\u001b[0m\u001b[0m\n",
      "\u001b[1;32mC:\\Anaconda\\lib\\site-packages\\theano\\gof\\op.pyc\u001b[0m in \u001b[0;36mmake_c_thunk\u001b[1;34m(self, node, storage_map, compute_map, no_recycling)\u001b[0m\n\u001b[0;32m    831\u001b[0m         \u001b[0mlogger\u001b[0m\u001b[1;33m.\u001b[0m\u001b[0mdebug\u001b[0m\u001b[1;33m(\u001b[0m\u001b[1;34m'Trying CLinker.make_thunk'\u001b[0m\u001b[1;33m)\u001b[0m\u001b[1;33m\u001b[0m\u001b[0m\n\u001b[0;32m    832\u001b[0m         outputs = cl.make_thunk(input_storage=node_input_storage,\n\u001b[1;32m--> 833\u001b[1;33m                                 output_storage=node_output_storage)\n\u001b[0m\u001b[0;32m    834\u001b[0m         \u001b[0mfill_storage\u001b[0m\u001b[1;33m,\u001b[0m \u001b[0mnode_input_filters\u001b[0m\u001b[1;33m,\u001b[0m \u001b[0mnode_output_filters\u001b[0m \u001b[1;33m=\u001b[0m \u001b[0moutputs\u001b[0m\u001b[1;33m\u001b[0m\u001b[0m\n\u001b[0;32m    835\u001b[0m \u001b[1;33m\u001b[0m\u001b[0m\n",
      "\u001b[1;32mC:\\Anaconda\\lib\\site-packages\\theano\\gof\\cc.pyc\u001b[0m in \u001b[0;36mmake_thunk\u001b[1;34m(self, input_storage, output_storage, storage_map, keep_lock)\u001b[0m\n\u001b[0;32m   1188\u001b[0m         cthunk, in_storage, out_storage, error_storage = self.__compile__(\n\u001b[0;32m   1189\u001b[0m             \u001b[0minput_storage\u001b[0m\u001b[1;33m,\u001b[0m \u001b[0moutput_storage\u001b[0m\u001b[1;33m,\u001b[0m \u001b[0mstorage_map\u001b[0m\u001b[1;33m,\u001b[0m\u001b[1;33m\u001b[0m\u001b[0m\n\u001b[1;32m-> 1190\u001b[1;33m             keep_lock=keep_lock)\n\u001b[0m\u001b[0;32m   1191\u001b[0m \u001b[1;33m\u001b[0m\u001b[0m\n\u001b[0;32m   1192\u001b[0m         \u001b[0mres\u001b[0m \u001b[1;33m=\u001b[0m \u001b[0m_CThunk\u001b[0m\u001b[1;33m(\u001b[0m\u001b[0mcthunk\u001b[0m\u001b[1;33m,\u001b[0m \u001b[0minit_tasks\u001b[0m\u001b[1;33m,\u001b[0m \u001b[0mtasks\u001b[0m\u001b[1;33m,\u001b[0m \u001b[0merror_storage\u001b[0m\u001b[1;33m)\u001b[0m\u001b[1;33m\u001b[0m\u001b[0m\n",
      "\u001b[1;32mC:\\Anaconda\\lib\\site-packages\\theano\\gof\\cc.pyc\u001b[0m in \u001b[0;36m__compile__\u001b[1;34m(self, input_storage, output_storage, storage_map, keep_lock)\u001b[0m\n\u001b[0;32m   1129\u001b[0m                                     \u001b[0moutput_storage\u001b[0m\u001b[1;33m,\u001b[0m\u001b[1;33m\u001b[0m\u001b[0m\n\u001b[0;32m   1130\u001b[0m                                     \u001b[0mstorage_map\u001b[0m\u001b[1;33m,\u001b[0m\u001b[1;33m\u001b[0m\u001b[0m\n\u001b[1;32m-> 1131\u001b[1;33m                                     keep_lock=keep_lock)\n\u001b[0m\u001b[0;32m   1132\u001b[0m         return (thunk,\n\u001b[0;32m   1133\u001b[0m                 [link.Container(input, storage) for input, storage in\n",
      "\u001b[1;32mC:\\Anaconda\\lib\\site-packages\\theano\\gof\\cc.pyc\u001b[0m in \u001b[0;36mcthunk_factory\u001b[1;34m(self, error_storage, in_storage, out_storage, storage_map, keep_lock)\u001b[0m\n\u001b[0;32m   1587\u001b[0m                 \u001b[0mnode\u001b[0m\u001b[1;33m.\u001b[0m\u001b[0mop\u001b[0m\u001b[1;33m.\u001b[0m\u001b[0mprepare_node\u001b[0m\u001b[1;33m(\u001b[0m\u001b[0mnode\u001b[0m\u001b[1;33m,\u001b[0m \u001b[0mstorage_map\u001b[0m\u001b[1;33m,\u001b[0m \u001b[0mNone\u001b[0m\u001b[1;33m)\u001b[0m\u001b[1;33m\u001b[0m\u001b[0m\n\u001b[0;32m   1588\u001b[0m             module = get_module_cache().module_from_key(\n\u001b[1;32m-> 1589\u001b[1;33m                 key=key, lnk=self, keep_lock=keep_lock)\n\u001b[0m\u001b[0;32m   1590\u001b[0m \u001b[1;33m\u001b[0m\u001b[0m\n\u001b[0;32m   1591\u001b[0m         \u001b[0mvars\u001b[0m \u001b[1;33m=\u001b[0m \u001b[0mself\u001b[0m\u001b[1;33m.\u001b[0m\u001b[0minputs\u001b[0m \u001b[1;33m+\u001b[0m \u001b[0mself\u001b[0m\u001b[1;33m.\u001b[0m\u001b[0moutputs\u001b[0m \u001b[1;33m+\u001b[0m \u001b[0mself\u001b[0m\u001b[1;33m.\u001b[0m\u001b[0morphans\u001b[0m\u001b[1;33m\u001b[0m\u001b[0m\n",
      "\u001b[1;32mC:\\Anaconda\\lib\\site-packages\\theano\\gof\\cmodule.pyc\u001b[0m in \u001b[0;36mmodule_from_key\u001b[1;34m(self, key, lnk, keep_lock)\u001b[0m\n\u001b[0;32m   1143\u001b[0m             \u001b[1;32mtry\u001b[0m\u001b[1;33m:\u001b[0m\u001b[1;33m\u001b[0m\u001b[0m\n\u001b[0;32m   1144\u001b[0m                 \u001b[0mlocation\u001b[0m \u001b[1;33m=\u001b[0m \u001b[0mdlimport_workdir\u001b[0m\u001b[1;33m(\u001b[0m\u001b[0mself\u001b[0m\u001b[1;33m.\u001b[0m\u001b[0mdirname\u001b[0m\u001b[1;33m)\u001b[0m\u001b[1;33m\u001b[0m\u001b[0m\n\u001b[1;32m-> 1145\u001b[1;33m                 \u001b[0mmodule\u001b[0m \u001b[1;33m=\u001b[0m \u001b[0mlnk\u001b[0m\u001b[1;33m.\u001b[0m\u001b[0mcompile_cmodule\u001b[0m\u001b[1;33m(\u001b[0m\u001b[0mlocation\u001b[0m\u001b[1;33m)\u001b[0m\u001b[1;33m\u001b[0m\u001b[0m\n\u001b[0m\u001b[0;32m   1146\u001b[0m                 \u001b[0mname\u001b[0m \u001b[1;33m=\u001b[0m \u001b[0mmodule\u001b[0m\u001b[1;33m.\u001b[0m\u001b[0m__file__\u001b[0m\u001b[1;33m\u001b[0m\u001b[0m\n\u001b[0;32m   1147\u001b[0m                 \u001b[1;32massert\u001b[0m \u001b[0mname\u001b[0m\u001b[1;33m.\u001b[0m\u001b[0mstartswith\u001b[0m\u001b[1;33m(\u001b[0m\u001b[0mlocation\u001b[0m\u001b[1;33m)\u001b[0m\u001b[1;33m\u001b[0m\u001b[0m\n",
      "\u001b[1;32mC:\\Anaconda\\lib\\site-packages\\theano\\gof\\cc.pyc\u001b[0m in \u001b[0;36mcompile_cmodule\u001b[1;34m(self, location)\u001b[0m\n\u001b[0;32m   1490\u001b[0m                 \u001b[0mlib_dirs\u001b[0m\u001b[1;33m=\u001b[0m\u001b[0mself\u001b[0m\u001b[1;33m.\u001b[0m\u001b[0mlib_dirs\u001b[0m\u001b[1;33m(\u001b[0m\u001b[1;33m)\u001b[0m\u001b[1;33m,\u001b[0m\u001b[1;33m\u001b[0m\u001b[0m\n\u001b[0;32m   1491\u001b[0m                 \u001b[0mlibs\u001b[0m\u001b[1;33m=\u001b[0m\u001b[0mlibs\u001b[0m\u001b[1;33m,\u001b[0m\u001b[1;33m\u001b[0m\u001b[0m\n\u001b[1;32m-> 1492\u001b[1;33m                 preargs=preargs)\n\u001b[0m\u001b[0;32m   1493\u001b[0m         \u001b[1;32mexcept\u001b[0m \u001b[0mException\u001b[0m \u001b[1;32mas\u001b[0m \u001b[0me\u001b[0m\u001b[1;33m:\u001b[0m\u001b[1;33m\u001b[0m\u001b[0m\n\u001b[0;32m   1494\u001b[0m             \u001b[0me\u001b[0m\u001b[1;33m.\u001b[0m\u001b[0margs\u001b[0m \u001b[1;33m+=\u001b[0m \u001b[1;33m(\u001b[0m\u001b[0mstr\u001b[0m\u001b[1;33m(\u001b[0m\u001b[0mself\u001b[0m\u001b[1;33m.\u001b[0m\u001b[0mfgraph\u001b[0m\u001b[1;33m)\u001b[0m\u001b[1;33m,\u001b[0m\u001b[1;33m)\u001b[0m\u001b[1;33m\u001b[0m\u001b[0m\n",
      "\u001b[1;32mC:\\Anaconda\\lib\\site-packages\\theano\\sandbox\\cuda\\nvcc_compiler.pyc\u001b[0m in \u001b[0;36mcompile_str\u001b[1;34m(module_name, src_code, location, include_dirs, lib_dirs, libs, preargs, rpaths, py_module, hide_symbols)\u001b[0m\n\u001b[0;32m    362\u001b[0m             p = subprocess.Popen(\n\u001b[0;32m    363\u001b[0m                 cmd, stdout=subprocess.PIPE, stderr=subprocess.PIPE)\n\u001b[1;32m--> 364\u001b[1;33m             \u001b[0mnvcc_stdout_raw\u001b[0m\u001b[1;33m,\u001b[0m \u001b[0mnvcc_stderr_raw\u001b[0m \u001b[1;33m=\u001b[0m \u001b[0mp\u001b[0m\u001b[1;33m.\u001b[0m\u001b[0mcommunicate\u001b[0m\u001b[1;33m(\u001b[0m\u001b[1;33m)\u001b[0m\u001b[1;33m[\u001b[0m\u001b[1;33m:\u001b[0m\u001b[1;36m2\u001b[0m\u001b[1;33m]\u001b[0m\u001b[1;33m\u001b[0m\u001b[0m\n\u001b[0m\u001b[0;32m    365\u001b[0m             \u001b[0mconsole_encoding\u001b[0m \u001b[1;33m=\u001b[0m \u001b[0mgetpreferredencoding\u001b[0m\u001b[1;33m(\u001b[0m\u001b[1;33m)\u001b[0m\u001b[1;33m\u001b[0m\u001b[0m\n\u001b[0;32m    366\u001b[0m             \u001b[0mnvcc_stdout\u001b[0m \u001b[1;33m=\u001b[0m \u001b[0mdecode_with\u001b[0m\u001b[1;33m(\u001b[0m\u001b[0mnvcc_stdout_raw\u001b[0m\u001b[1;33m,\u001b[0m \u001b[0mconsole_encoding\u001b[0m\u001b[1;33m)\u001b[0m\u001b[1;33m\u001b[0m\u001b[0m\n",
      "\u001b[1;32mC:\\Anaconda\\lib\\subprocess.pyc\u001b[0m in \u001b[0;36mcommunicate\u001b[1;34m(self, input)\u001b[0m\n\u001b[0;32m    798\u001b[0m             \u001b[1;32mreturn\u001b[0m \u001b[1;33m(\u001b[0m\u001b[0mstdout\u001b[0m\u001b[1;33m,\u001b[0m \u001b[0mstderr\u001b[0m\u001b[1;33m)\u001b[0m\u001b[1;33m\u001b[0m\u001b[0m\n\u001b[0;32m    799\u001b[0m \u001b[1;33m\u001b[0m\u001b[0m\n\u001b[1;32m--> 800\u001b[1;33m         \u001b[1;32mreturn\u001b[0m \u001b[0mself\u001b[0m\u001b[1;33m.\u001b[0m\u001b[0m_communicate\u001b[0m\u001b[1;33m(\u001b[0m\u001b[0minput\u001b[0m\u001b[1;33m)\u001b[0m\u001b[1;33m\u001b[0m\u001b[0m\n\u001b[0m\u001b[0;32m    801\u001b[0m \u001b[1;33m\u001b[0m\u001b[0m\n\u001b[0;32m    802\u001b[0m \u001b[1;33m\u001b[0m\u001b[0m\n",
      "\u001b[1;32mC:\\Anaconda\\lib\\subprocess.pyc\u001b[0m in \u001b[0;36m_communicate\u001b[1;34m(self, input)\u001b[0m\n\u001b[0;32m   1050\u001b[0m \u001b[1;33m\u001b[0m\u001b[0m\n\u001b[0;32m   1051\u001b[0m             \u001b[1;32mif\u001b[0m \u001b[0mself\u001b[0m\u001b[1;33m.\u001b[0m\u001b[0mstdout\u001b[0m\u001b[1;33m:\u001b[0m\u001b[1;33m\u001b[0m\u001b[0m\n\u001b[1;32m-> 1052\u001b[1;33m                 \u001b[0mstdout_thread\u001b[0m\u001b[1;33m.\u001b[0m\u001b[0mjoin\u001b[0m\u001b[1;33m(\u001b[0m\u001b[1;33m)\u001b[0m\u001b[1;33m\u001b[0m\u001b[0m\n\u001b[0m\u001b[0;32m   1053\u001b[0m             \u001b[1;32mif\u001b[0m \u001b[0mself\u001b[0m\u001b[1;33m.\u001b[0m\u001b[0mstderr\u001b[0m\u001b[1;33m:\u001b[0m\u001b[1;33m\u001b[0m\u001b[0m\n\u001b[0;32m   1054\u001b[0m                 \u001b[0mstderr_thread\u001b[0m\u001b[1;33m.\u001b[0m\u001b[0mjoin\u001b[0m\u001b[1;33m(\u001b[0m\u001b[1;33m)\u001b[0m\u001b[1;33m\u001b[0m\u001b[0m\n",
      "\u001b[1;32mC:\\Anaconda\\lib\\threading.pyc\u001b[0m in \u001b[0;36mjoin\u001b[1;34m(self, timeout)\u001b[0m\n\u001b[0;32m    938\u001b[0m             \u001b[1;32mif\u001b[0m \u001b[0mtimeout\u001b[0m \u001b[1;32mis\u001b[0m \u001b[0mNone\u001b[0m\u001b[1;33m:\u001b[0m\u001b[1;33m\u001b[0m\u001b[0m\n\u001b[0;32m    939\u001b[0m                 \u001b[1;32mwhile\u001b[0m \u001b[1;32mnot\u001b[0m \u001b[0mself\u001b[0m\u001b[1;33m.\u001b[0m\u001b[0m__stopped\u001b[0m\u001b[1;33m:\u001b[0m\u001b[1;33m\u001b[0m\u001b[0m\n\u001b[1;32m--> 940\u001b[1;33m                     \u001b[0mself\u001b[0m\u001b[1;33m.\u001b[0m\u001b[0m__block\u001b[0m\u001b[1;33m.\u001b[0m\u001b[0mwait\u001b[0m\u001b[1;33m(\u001b[0m\u001b[1;33m)\u001b[0m\u001b[1;33m\u001b[0m\u001b[0m\n\u001b[0m\u001b[0;32m    941\u001b[0m                 \u001b[1;32mif\u001b[0m \u001b[0m__debug__\u001b[0m\u001b[1;33m:\u001b[0m\u001b[1;33m\u001b[0m\u001b[0m\n\u001b[0;32m    942\u001b[0m                     \u001b[0mself\u001b[0m\u001b[1;33m.\u001b[0m\u001b[0m_note\u001b[0m\u001b[1;33m(\u001b[0m\u001b[1;34m\"%s.join(): thread stopped\"\u001b[0m\u001b[1;33m,\u001b[0m \u001b[0mself\u001b[0m\u001b[1;33m)\u001b[0m\u001b[1;33m\u001b[0m\u001b[0m\n",
      "\u001b[1;32mC:\\Anaconda\\lib\\threading.pyc\u001b[0m in \u001b[0;36mwait\u001b[1;34m(self, timeout)\u001b[0m\n\u001b[0;32m    338\u001b[0m         \u001b[1;32mtry\u001b[0m\u001b[1;33m:\u001b[0m    \u001b[1;31m# restore state no matter what (e.g., KeyboardInterrupt)\u001b[0m\u001b[1;33m\u001b[0m\u001b[0m\n\u001b[0;32m    339\u001b[0m             \u001b[1;32mif\u001b[0m \u001b[0mtimeout\u001b[0m \u001b[1;32mis\u001b[0m \u001b[0mNone\u001b[0m\u001b[1;33m:\u001b[0m\u001b[1;33m\u001b[0m\u001b[0m\n\u001b[1;32m--> 340\u001b[1;33m                 \u001b[0mwaiter\u001b[0m\u001b[1;33m.\u001b[0m\u001b[0macquire\u001b[0m\u001b[1;33m(\u001b[0m\u001b[1;33m)\u001b[0m\u001b[1;33m\u001b[0m\u001b[0m\n\u001b[0m\u001b[0;32m    341\u001b[0m                 \u001b[1;32mif\u001b[0m \u001b[0m__debug__\u001b[0m\u001b[1;33m:\u001b[0m\u001b[1;33m\u001b[0m\u001b[0m\n\u001b[0;32m    342\u001b[0m                     \u001b[0mself\u001b[0m\u001b[1;33m.\u001b[0m\u001b[0m_note\u001b[0m\u001b[1;33m(\u001b[0m\u001b[1;34m\"%s.wait(): got it\"\u001b[0m\u001b[1;33m,\u001b[0m \u001b[0mself\u001b[0m\u001b[1;33m)\u001b[0m\u001b[1;33m\u001b[0m\u001b[0m\n",
      "\u001b[1;31mKeyboardInterrupt\u001b[0m: "
     ]
    }
   ],
   "source": [
    "# %%time\n",
    "### CREATE TRAINING FUNCTIONS\n",
    "\n",
    "all_params = L.get_all_params([l_z_1, l_out], trainable=True)\n",
    "all_grads  = T.grad(-LL_train, all_params)\n",
    "\n",
    "updates    = lasagne.updates.adam(all_grads, all_params,\n",
    "                                  learning_rate=learning_rate)\n",
    "\n",
    "# Training function: Return loss, and update weights\n",
    "f_train = theano.function(inputs=[sym_x],\n",
    "                          outputs=[LL_train, log_px_train, KL_train],\n",
    "                          updates=updates)\n",
    "\n",
    "# Evaluation function: Return loss\n",
    "f_eval = theano.function(inputs=[sym_x],\n",
    "                         outputs=[LL_train, log_px_train, KL_train])\n",
    "\n",
    "# Get latent variable values\n",
    "f_z              = theano.function(inputs=[sym_x], outputs=[z_eval])\n",
    "\n",
    "# Return the reconstruction\n",
    "f_reconstruction = theano.function(inputs=[sym_x], outputs=[out_eval])\n",
    "\n",
    "# Simulate artificial data, given an artificial latent variable\n",
    "f_simulate = theano.function(inputs=[sym_z], outputs=[mux_sample])\n"
   ]
  },
  {
   "cell_type": "code",
   "execution_count": null,
   "metadata": {
    "collapsed": false,
    "scrolled": false
   },
   "outputs": [],
   "source": [
    "# %%time\n",
    "### TRAINING\n",
    "from IPython.display import Image, display, clear_output\n",
    "import sklearn.decomposition\n",
    "pca = sklearn.decomposition.PCA(n_components=2)\n",
    "\n",
    "\n",
    "\n",
    "LL_train, KL_train, logpx_train = [],[],[]\n",
    "LL_valid, KL_valid, logpx_valid = [],[],[]\n",
    "samples_processed = 0\n",
    "\n",
    "valid_samples_processed = []\n",
    "\n",
    "\n",
    "try:\n",
    "    while samples_processed < samples_to_process:\n",
    "#         _LL_train, _KL_train, _logpx_train = [],[],[]\n",
    "        idxs = np.random.choice(\n",
    "                range(x_trai.shape[0]), \n",
    "                size=(batch_size), \n",
    "                replace=False)\n",
    "    \n",
    "        out = f_train(x_trai[idxs])\n",
    "        samples_processed += batch_size\n",
    "            \n",
    "        if samples_processed % val_interval == 0:\n",
    "            print('{:10.0f} sampeles processed.'.format(samples_processed))\n",
    "            print('{:10.0f} sampeles in total.'.format(samples_to_process))\n",
    "            valid_samples_processed += [samples_processed]\n",
    "\n",
    "            # Run through training set\n",
    "            out = f_eval(x_trai[:10000]) # TAKES A LOT OF MEMORY!\n",
    "            LL_train    += [out[0]]\n",
    "            logpx_train += [out[1]]\n",
    "            KL_train    += [out[2]]\n",
    "            \n",
    "            # Run through validation set\n",
    "            out = f_eval(x_vali)\n",
    "            LL_valid    += [out[0]]\n",
    "            logpx_valid += [out[1]]\n",
    "            KL_valid    += [out[2]]\n",
    "            \n",
    "            # Compute latent variables\n",
    "            z_eval = f_z(x_vali)[0]\n",
    "            \n",
    "            # Create samples, sampling from prior distribution (std. normal)\n",
    "            x_sample = f_simulate(np.random.normal(size=(100, num_latent_1)).astype('float32'))[0]\n",
    "#             x_sample = f_sample(np.random.normal(size=(100, num_latent_1 * size_up_factor)).astype('float32'))[0]\n",
    "\n",
    "            \n",
    "            # Create reconstruction\n",
    "            x_recon = f_reconstruction(x_vali)[0]\n",
    "\n",
    "            \n",
    "            \n",
    "            \n",
    "            if plot_train:\n",
    "#             if False:\n",
    "                plt.subplots(figsize=(7, 7), dpi=50)\n",
    "\n",
    "                ### Plot learning curves \n",
    "                plt.subplot(num_classes+2,2,1)\n",
    "                plt.xlabel('Updates')\n",
    "                plt.plot(valid_samples_processed, LL_train, \n",
    "                         color=\"black\", label='LL')\n",
    "                plt.plot(valid_samples_processed, logpx_train, \n",
    "                         color=\"red\", label='log(p(x))')\n",
    "                plt.plot(valid_samples_processed, LL_valid, \n",
    "                         color=\"black\", \n",
    "                         linestyle=\"--\")\n",
    "                plt.plot(valid_samples_processed, logpx_valid,\n",
    "                         color=\"red\", \n",
    "                         linestyle=\"--\")\n",
    "                plt.legend(loc=2)\n",
    "                plt.title('-train, --valid')\n",
    "                plt.ticklabel_format(style='sci', axis='x', scilimits=(0,0))\n",
    "                plt.grid('on')\n",
    "                \n",
    "                ### Plot PCA of latent space\n",
    "                plt.subplot(num_classes+2,2,2)\n",
    "                plt.cla()\n",
    "                plt.xlabel('PCA 0'), plt.ylabel('PCA 1')\n",
    "                color = iter(plt.get_cmap('brg')(np.linspace(0, 1.0, num_classes)))\n",
    "                for i in range(num_classes):\n",
    "                    clr = next(color)\n",
    "                    pca_trans = pca.fit_transform(z_eval)\n",
    "                    plt.scatter(pca_trans[tls.onehot2int(t_vali)==i, 0], \n",
    "                                pca_trans[tls.onehot2int(t_vali)==i, 1], \n",
    "                                c=clr, \n",
    "                                s=5., \n",
    "                                lw=0, \n",
    "                                marker='o', )\n",
    "                plt.grid('on')\n",
    "\n",
    "#                 plt.savefig(\"out52.png\")\n",
    "#                 display(Image(filename=\"out52.png\"))\n",
    "\n",
    "                ### PLOT KL term\n",
    "                plt.subplot(num_classes+2,2,3)\n",
    "                plt.legend(['KL(q||p)'])\n",
    "                plt.xlabel('Updates')\n",
    "                plt.plot(valid_samples_processed, KL_train, color=\"blue\")\n",
    "                plt.plot(valid_samples_processed, KL_valid, color=\"blue\", linestyle=\"--\")\n",
    "                plt.ticklabel_format(style='sci', axis='x', scilimits=(0,0))\n",
    "\n",
    "                # Formatting\n",
    "                plt.grid('on')\n",
    "                plt.tight_layout()\n",
    "                \n",
    "                \n",
    "                \n",
    "                \n",
    "                ### Plot samples                \n",
    "                sample, _ = tls.plot_svhn(x_sample, t=6, cmap=cmap,\n",
    "                    IMG_LEN=IMG_LEN, IMG_DEPTH=IMG_DEPTH)\n",
    "\n",
    "                \n",
    "                ## PLOT images and their reconstructions\n",
    "                orig_all = []\n",
    "                recon_all= []\n",
    "                for c in range(num_classes):\n",
    "                    orig, _ = tls.plot_svhn(x_vali[tls.onehot2int(t_vali)==c], \n",
    "                                             t=6, cmap=cmap, IMG_LEN=IMG_LEN, \n",
    "                                             IMG_DEPTH=IMG_DEPTH)\n",
    "                    orig_all.append(orig)\n",
    "\n",
    "                    recon, _ = tls.plot_svhn(x_recon[tls.onehot2int(t_vali)==c],\n",
    "                                             t=6, cmap=cmap, IMG_LEN=IMG_LEN, \n",
    "                                             IMG_DEPTH=IMG_DEPTH)\n",
    "                    recon_all.append(recon)\n",
    "        \n",
    "        \n",
    "            # Clear previous plots\n",
    "            clear_output(wait=True)\n",
    "\n",
    "            plt.imshow(sample, cmap=cmap, interpolation='None')\n",
    "            plt.title('Samples')\n",
    "            plt.axis('off')\n",
    "            plt.tight_layout()\n",
    "            plt.show()\n",
    "            \n",
    "            for c in range(num_classes):\n",
    "                _, ax = plt.subplots(1,2)\n",
    "\n",
    "                ax[0].imshow(orig_all[c], cmap=cmap, interpolation='None')\n",
    "                ax[0].set_title('Original')\n",
    "                ax[0].axis('off')\n",
    "                \n",
    "                ax[1].imshow(recon_all[c], cmap=cmap, interpolation='None')\n",
    "                ax[1].set_title('Reconstruction')\n",
    "                ax[1].axis('off')\n",
    "\n",
    "                plt.tight_layout()\n",
    "                plt.show()\n",
    "                \n",
    "        \n",
    "except KeyboardInterrupt:\n",
    "    pass\n",
    "\n",
    "print('Training complete')"
   ]
  },
  {
   "cell_type": "code",
   "execution_count": null,
   "metadata": {
    "collapsed": false
   },
   "outputs": [],
   "source": [
    "x_sample = f_simulate(np.random.normal(size=(100, num_latent_1)).astype('float32'))[0]\n",
    "\n",
    "print(x_sample.shape)\n",
    "# print(x_sample[0])\n",
    "print(max(x_sample[0]))\n",
    "\n",
    "\n",
    "\n",
    "canv, _ = tls.plot_svhn(x_sample, t=6, cmap=cmap,\n",
    "    IMG_LEN=IMG_LEN, IMG_DEPTH=IMG_DEPTH)\n",
    "\n",
    "plt.imshow(canv, cmap=cmap)\n",
    "plt.show()\n",
    "\n"
   ]
  },
  {
   "cell_type": "code",
   "execution_count": null,
   "metadata": {
    "collapsed": false
   },
   "outputs": [],
   "source": [
    "# fig, ax_sam = plt.subplots()\n",
    "\n",
    "# x_sample.shape\n",
    "\n",
    "# ax_sam.cla()\n",
    "# plt.title('Samples')\n",
    "# plt.axis('off')\n",
    "\n",
    "\n",
    "\n",
    "# idx = 0\n",
    "# canvas = np.zeros((IMG_LEN*10, 10*IMG_LEN, ))\n",
    "# ## Plot generated samples\n",
    "# for i in range(10):\n",
    "#     for j in range(10):\n",
    "#         if dataset == 'SVHN':\n",
    "#             canvas[i*IMG_LEN:(i+1)*IMG_LEN, j*IMG_LEN:(j+1)*IMG_LEN, :] = \\\n",
    "#                 x_sample[idx].reshape((IMG_LEN, IMG_LEN, 3))\n",
    "#         elif dataset == 'MNIST':\n",
    "#             canvas[i*IMG_LEN:(i+1)*IMG_LEN, j*IMG_LEN:(j+1)*IMG_LEN] = \\\n",
    "#                 x_sample[idx].reshape((IMG_LEN, IMG_LEN))                            \n",
    "#         idx += 1\n",
    "# plt.imshow(canvas)\n",
    "# plt.tight_layout()\n"
   ]
  },
  {
   "cell_type": "code",
   "execution_count": null,
   "metadata": {
    "collapsed": true
   },
   "outputs": [],
   "source": []
  },
  {
   "cell_type": "code",
   "execution_count": null,
   "metadata": {
    "collapsed": true
   },
   "outputs": [],
   "source": []
  },
  {
   "cell_type": "code",
   "execution_count": null,
   "metadata": {
    "collapsed": true
   },
   "outputs": [],
   "source": []
  },
  {
   "cell_type": "code",
   "execution_count": null,
   "metadata": {
    "collapsed": true
   },
   "outputs": [],
   "source": []
  },
  {
   "cell_type": "code",
   "execution_count": null,
   "metadata": {
    "collapsed": true
   },
   "outputs": [],
   "source": []
  },
  {
   "cell_type": "code",
   "execution_count": null,
   "metadata": {
    "collapsed": true
   },
   "outputs": [],
   "source": []
  },
  {
   "cell_type": "code",
   "execution_count": null,
   "metadata": {
    "collapsed": true
   },
   "outputs": [],
   "source": []
  },
  {
   "cell_type": "code",
   "execution_count": null,
   "metadata": {
    "collapsed": true
   },
   "outputs": [],
   "source": []
  },
  {
   "cell_type": "code",
   "execution_count": null,
   "metadata": {
    "collapsed": true
   },
   "outputs": [],
   "source": []
  },
  {
   "cell_type": "code",
   "execution_count": null,
   "metadata": {
    "collapsed": true
   },
   "outputs": [],
   "source": []
  },
  {
   "cell_type": "code",
   "execution_count": null,
   "metadata": {
    "collapsed": true
   },
   "outputs": [],
   "source": []
  },
  {
   "cell_type": "code",
   "execution_count": null,
   "metadata": {
    "collapsed": true
   },
   "outputs": [],
   "source": []
  },
  {
   "cell_type": "code",
   "execution_count": null,
   "metadata": {
    "collapsed": true
   },
   "outputs": [],
   "source": []
  },
  {
   "cell_type": "code",
   "execution_count": null,
   "metadata": {
    "collapsed": true
   },
   "outputs": [],
   "source": []
  },
  {
   "cell_type": "code",
   "execution_count": null,
   "metadata": {
    "collapsed": true
   },
   "outputs": [],
   "source": []
  },
  {
   "cell_type": "code",
   "execution_count": null,
   "metadata": {
    "collapsed": true
   },
   "outputs": [],
   "source": []
  },
  {
   "cell_type": "code",
   "execution_count": null,
   "metadata": {
    "collapsed": true
   },
   "outputs": [],
   "source": []
  }
 ],
 "metadata": {
  "anaconda-cloud": {},
  "kernelspec": {
   "display_name": "Python [Root]",
   "language": "python",
   "name": "Python [Root]"
  },
  "language_info": {
   "codemirror_mode": {
    "name": "ipython",
    "version": 2
   },
   "file_extension": ".py",
   "mimetype": "text/x-python",
   "name": "python",
   "nbconvert_exporter": "python",
   "pygments_lexer": "ipython2",
   "version": "2.7.12"
  }
 },
 "nbformat": 4,
 "nbformat_minor": 0
}

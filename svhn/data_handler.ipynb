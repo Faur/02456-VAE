{
 "cells": [
  {
   "cell_type": "code",
   "execution_count": 1,
   "metadata": {
    "collapsed": false
   },
   "outputs": [
    {
     "name": "stderr",
     "output_type": "stream",
     "text": [
      "/home/icarus/anaconda2/lib/python2.7/site-packages/matplotlib/font_manager.py:273: UserWarning: Matplotlib is building the font cache using fc-list. This may take a moment.\n",
      "  warnings.warn('Matplotlib is building the font cache using fc-list. This may take a moment.')\n"
     ]
    },
    {
     "name": "stdout",
     "output_type": "stream",
     "text": [
      "2.7.12 |Anaconda custom (64-bit)| (default, Jul  2 2016, 17:42:40) \n",
      "[GCC 4.4.7 20120313 (Red Hat 4.4.7-1)]\n"
     ]
    },
    {
     "name": "stderr",
     "output_type": "stream",
     "text": [
      "Using gpu device 0: Tesla K80 (CNMeM is enabled with initial size: 35.0% of memory, cuDNN 5105)\n"
     ]
    },
    {
     "name": "stdout",
     "output_type": "stream",
     "text": [
      "CPU times: user 3.31 s, sys: 623 ms, total: 3.94 s\n",
      "Wall time: 5.25 s\n"
     ]
    }
   ],
   "source": [
    "%%time \n",
    "\n",
    "from __future__ import print_function # Use python 3 print format\n",
    "\n",
    "# Python 2.7\n",
    "%matplotlib nbagg\n",
    "%matplotlib inline \n",
    "\n",
    "import os\n",
    "import sys\n",
    "print(sys.version)\n",
    "\n",
    "import cPickle as pickle\n",
    "import scipy.io\n",
    "import numpy as np\n",
    "import matplotlib.pyplot as plt\n",
    "# import theano\n",
    "# import theano.tensor as T\n",
    "# import lasagne \n",
    "# import lasagne.layers as L\n",
    "\n",
    "import tools as tls\n",
    "\n",
    "from sklearn.utils import shuffle\n",
    "from data_loaders import svhn\n"
   ]
  },
  {
   "cell_type": "code",
   "execution_count": 2,
   "metadata": {
    "collapsed": false
   },
   "outputs": [
    {
     "name": "stdout",
     "output_type": "stream",
     "text": [
      "/home/icarus/02456-VAE/svhn/data/svhn/\n"
     ]
    }
   ],
   "source": [
    "### META - HOW THE PROGRAM WORKS\n",
    "f_out_name = 'data_share'\n",
    "vali_size = 10000      # Size of validation set\n",
    "\n",
    "### REDUCE SIZE\n",
    "create_shared = True           \n",
    "reduce_dataset_size = False     # Use reduced_size\n",
    "reduce_dataset_classes = True   # Use reduced_classes\n",
    "integer_encoding = True         # Are the targets integers or one-hot? (THEY ARE!)\n",
    "    # NB DEPRICATED: integer_encoding = True \n",
    "\n",
    "\n",
    "reduced_size = 10000  # Max number of train/test examples\n",
    "reduced_classes = 3   # Max number of classes\n",
    "\n",
    "# OTHER THINGS\n",
    "random_state = 123        # Reproducability\n",
    "\n",
    "num_classes = 10\n",
    "\n",
    "trai_f_name = 'train_32x32.mat'\n",
    "test_f_name = 'test_32x32.mat'\n",
    "\n",
    "data_path = os.path.join(os.getcwd(), 'data')\n",
    "data_path = os.path.join(data_path,   'svhn')\n",
    "data_path = os.path.join(data_path,   '')\n",
    "\n",
    "print(data_path)\n"
   ]
  },
  {
   "cell_type": "code",
   "execution_count": null,
   "metadata": {
    "collapsed": false
   },
   "outputs": [
    {
     "name": "stdout",
     "output_type": "stream",
     "text": [
      "--2016-11-24 14:01:50--  http://ufldl.stanford.edu/housenumbers/train_32x32.mat\n",
      "Resolving ufldl.stanford.edu (ufldl.stanford.edu)... 171.64.68.10\n",
      "Connecting to ufldl.stanford.edu (ufldl.stanford.edu)|171.64.68.10|:80... connected.\n",
      "HTTP request sent, awaiting response... 200 OK\n",
      "Length: 182040794 (174M) [text/plain]\n",
      "Saving to: ‘/home/icarus/02456-VAE/svhn/data/svhn/train_32x32.mat’\n",
      "\n",
      " 1% [                                       ] 2,651,848   1.22MB/s             "
     ]
    }
   ],
   "source": [
    "### DOWNLOAD\n",
    "# ! wget http://ufldl.stanford.edu/housenumbers/train_32x32.mat -P /home/icarus/02456-VAE/svhn/data/svhn/\n",
    "# ! wget http://ufldl.stanford.edu/housenumbers/test_32x32.mat -P /home/icarus/02456-VAE/svhn/data/svhn/"
   ]
  },
  {
   "cell_type": "code",
   "execution_count": 4,
   "metadata": {
    "collapsed": false
   },
   "outputs": [
    {
     "ename": "IOError",
     "evalue": "[Errno 2] No such file or directory: '/home/icarus/02456-VAE/svhn/data/svhn/train_32x32.mat'",
     "output_type": "error",
     "traceback": [
      "\u001b[0;31m---------------------------------------------------------------------------\u001b[0m",
      "\u001b[0;31mIOError\u001b[0m                                   Traceback (most recent call last)",
      "\u001b[0;32m<ipython-input-4-1dd3c400e682>\u001b[0m in \u001b[0;36m<module>\u001b[0;34m()\u001b[0m\n\u001b[1;32m      4\u001b[0m \u001b[0;31m# Download .mat files to ./data/svhn\u001b[0m\u001b[0;34m\u001b[0m\u001b[0;34m\u001b[0m\u001b[0m\n\u001b[1;32m      5\u001b[0m \u001b[0;34m\u001b[0m\u001b[0m\n\u001b[0;32m----> 6\u001b[0;31m \u001b[0mtrai_set\u001b[0m \u001b[0;34m=\u001b[0m \u001b[0mscipy\u001b[0m\u001b[0;34m.\u001b[0m\u001b[0mio\u001b[0m\u001b[0;34m.\u001b[0m\u001b[0mloadmat\u001b[0m\u001b[0;34m(\u001b[0m\u001b[0mdata_path\u001b[0m \u001b[0;34m+\u001b[0m \u001b[0mtrai_f_name\u001b[0m \u001b[0;34m)\u001b[0m\u001b[0;34m\u001b[0m\u001b[0m\n\u001b[0m\u001b[1;32m      7\u001b[0m \u001b[0mtest_set\u001b[0m \u001b[0;34m=\u001b[0m \u001b[0mscipy\u001b[0m\u001b[0;34m.\u001b[0m\u001b[0mio\u001b[0m\u001b[0;34m.\u001b[0m\u001b[0mloadmat\u001b[0m\u001b[0;34m(\u001b[0m\u001b[0mdata_path\u001b[0m \u001b[0;34m+\u001b[0m \u001b[0mtest_f_name\u001b[0m \u001b[0;34m)\u001b[0m\u001b[0;34m\u001b[0m\u001b[0m\n\u001b[1;32m      8\u001b[0m \u001b[0;34m\u001b[0m\u001b[0m\n",
      "\u001b[0;32m/home/icarus/anaconda2/lib/python2.7/site-packages/scipy/io/matlab/mio.pyc\u001b[0m in \u001b[0;36mloadmat\u001b[0;34m(file_name, mdict, appendmat, **kwargs)\u001b[0m\n\u001b[1;32m    132\u001b[0m     \"\"\"\n\u001b[1;32m    133\u001b[0m     \u001b[0mvariable_names\u001b[0m \u001b[0;34m=\u001b[0m \u001b[0mkwargs\u001b[0m\u001b[0;34m.\u001b[0m\u001b[0mpop\u001b[0m\u001b[0;34m(\u001b[0m\u001b[0;34m'variable_names'\u001b[0m\u001b[0;34m,\u001b[0m \u001b[0mNone\u001b[0m\u001b[0;34m)\u001b[0m\u001b[0;34m\u001b[0m\u001b[0m\n\u001b[0;32m--> 134\u001b[0;31m     \u001b[0mMR\u001b[0m \u001b[0;34m=\u001b[0m \u001b[0mmat_reader_factory\u001b[0m\u001b[0;34m(\u001b[0m\u001b[0mfile_name\u001b[0m\u001b[0;34m,\u001b[0m \u001b[0mappendmat\u001b[0m\u001b[0;34m,\u001b[0m \u001b[0;34m**\u001b[0m\u001b[0mkwargs\u001b[0m\u001b[0;34m)\u001b[0m\u001b[0;34m\u001b[0m\u001b[0m\n\u001b[0m\u001b[1;32m    135\u001b[0m     \u001b[0mmatfile_dict\u001b[0m \u001b[0;34m=\u001b[0m \u001b[0mMR\u001b[0m\u001b[0;34m.\u001b[0m\u001b[0mget_variables\u001b[0m\u001b[0;34m(\u001b[0m\u001b[0mvariable_names\u001b[0m\u001b[0;34m)\u001b[0m\u001b[0;34m\u001b[0m\u001b[0m\n\u001b[1;32m    136\u001b[0m     \u001b[0;32mif\u001b[0m \u001b[0mmdict\u001b[0m \u001b[0;32mis\u001b[0m \u001b[0;32mnot\u001b[0m \u001b[0mNone\u001b[0m\u001b[0;34m:\u001b[0m\u001b[0;34m\u001b[0m\u001b[0m\n",
      "\u001b[0;32m/home/icarus/anaconda2/lib/python2.7/site-packages/scipy/io/matlab/mio.pyc\u001b[0m in \u001b[0;36mmat_reader_factory\u001b[0;34m(file_name, appendmat, **kwargs)\u001b[0m\n\u001b[1;32m     55\u001b[0m        \u001b[0mtype\u001b[0m \u001b[0mdetected\u001b[0m \u001b[0;32min\u001b[0m \u001b[0;34m`\u001b[0m\u001b[0mfilename\u001b[0m\u001b[0;34m`\u001b[0m\u001b[0;34m.\u001b[0m\u001b[0;34m\u001b[0m\u001b[0m\n\u001b[1;32m     56\u001b[0m     \"\"\"\n\u001b[0;32m---> 57\u001b[0;31m     \u001b[0mbyte_stream\u001b[0m \u001b[0;34m=\u001b[0m \u001b[0m_open_file\u001b[0m\u001b[0;34m(\u001b[0m\u001b[0mfile_name\u001b[0m\u001b[0;34m,\u001b[0m \u001b[0mappendmat\u001b[0m\u001b[0;34m)\u001b[0m\u001b[0;34m\u001b[0m\u001b[0m\n\u001b[0m\u001b[1;32m     58\u001b[0m     \u001b[0mmjv\u001b[0m\u001b[0;34m,\u001b[0m \u001b[0mmnv\u001b[0m \u001b[0;34m=\u001b[0m \u001b[0mget_matfile_version\u001b[0m\u001b[0;34m(\u001b[0m\u001b[0mbyte_stream\u001b[0m\u001b[0;34m)\u001b[0m\u001b[0;34m\u001b[0m\u001b[0m\n\u001b[1;32m     59\u001b[0m     \u001b[0;32mif\u001b[0m \u001b[0mmjv\u001b[0m \u001b[0;34m==\u001b[0m \u001b[0;36m0\u001b[0m\u001b[0;34m:\u001b[0m\u001b[0;34m\u001b[0m\u001b[0m\n",
      "\u001b[0;32m/home/icarus/anaconda2/lib/python2.7/site-packages/scipy/io/matlab/mio.pyc\u001b[0m in \u001b[0;36m_open_file\u001b[0;34m(file_like, appendmat)\u001b[0m\n\u001b[1;32m     21\u001b[0m     \u001b[0;32mif\u001b[0m \u001b[0misinstance\u001b[0m\u001b[0;34m(\u001b[0m\u001b[0mfile_like\u001b[0m\u001b[0;34m,\u001b[0m \u001b[0mstring_types\u001b[0m\u001b[0;34m)\u001b[0m\u001b[0;34m:\u001b[0m\u001b[0;34m\u001b[0m\u001b[0m\n\u001b[1;32m     22\u001b[0m         \u001b[0;32mtry\u001b[0m\u001b[0;34m:\u001b[0m\u001b[0;34m\u001b[0m\u001b[0m\n\u001b[0;32m---> 23\u001b[0;31m             \u001b[0;32mreturn\u001b[0m \u001b[0mopen\u001b[0m\u001b[0;34m(\u001b[0m\u001b[0mfile_like\u001b[0m\u001b[0;34m,\u001b[0m \u001b[0;34m'rb'\u001b[0m\u001b[0;34m)\u001b[0m\u001b[0;34m\u001b[0m\u001b[0m\n\u001b[0m\u001b[1;32m     24\u001b[0m         \u001b[0;32mexcept\u001b[0m \u001b[0mIOError\u001b[0m \u001b[0;32mas\u001b[0m \u001b[0me\u001b[0m\u001b[0;34m:\u001b[0m\u001b[0;34m\u001b[0m\u001b[0m\n\u001b[1;32m     25\u001b[0m             \u001b[0;32mif\u001b[0m \u001b[0mappendmat\u001b[0m \u001b[0;32mand\u001b[0m \u001b[0;32mnot\u001b[0m \u001b[0mfile_like\u001b[0m\u001b[0;34m.\u001b[0m\u001b[0mendswith\u001b[0m\u001b[0;34m(\u001b[0m\u001b[0;34m'.mat'\u001b[0m\u001b[0;34m)\u001b[0m\u001b[0;34m:\u001b[0m\u001b[0;34m\u001b[0m\u001b[0m\n",
      "\u001b[0;31mIOError\u001b[0m: [Errno 2] No such file or directory: '/home/icarus/02456-VAE/svhn/data/svhn/train_32x32.mat'"
     ]
    }
   ],
   "source": [
    "# %%time\n",
    "### LOAD DATA\n",
    "# Source: http://ufldl.stanford.edu/housenumbers/\n",
    "# Download .mat files to ./data/svhn\n",
    "\n",
    "trai_set = scipy.io.loadmat(data_path + trai_f_name )\n",
    "test_set = scipy.io.loadmat(data_path + test_f_name )\n",
    "\n",
    "t_trai = trai_set['y']\n",
    "x_trai = trai_set['X']\n",
    "\n",
    "t_test = test_set['y']\n",
    "x_test = test_set['X']\n",
    "print('train set', x_trai.shape, t_trai.shape)\n",
    "print('test  set', x_test.shape, t_test.shape)\n",
    "# plt.imshow(x_trai[:,:,:,1])\n",
    "\n",
    "\n",
    "# Fix target values\n",
    "t_trai[np.where(t_trai == 10)] = 0        # 0 is originally labled as 10\n",
    "t_test[np.where(t_test == 10)] = 0        # 0 is originally labled as 10\n",
    "\n",
    "# Fix input values\n",
    "x_trai = x_trai.reshape((3*32*32), -1)\n",
    "x_test = x_test.reshape((3*32*32, -1))\n",
    "x_trai = x_trai.transpose()\n",
    "x_test = x_test.transpose()\n",
    "\n",
    "\n",
    "# Create validation set\n",
    "# print(t_trai[42:50, :]) # Test if identical to below\n",
    "x_vali = x_trai[:vali_size]; x_trai = np.delete(x_trai, range(vali_size), axis=0)\n",
    "t_vali = t_trai[:vali_size]; t_trai = np.delete(t_trai, range(vali_size), axis=0)\n",
    "# print(t_vali[42:50, :]) # Test if identical to above\n",
    "\n",
    "\n",
    "del trai_set, test_set\n",
    "\n",
    "# Convert to GPU firendly types\n",
    "x_trai = x_trai.astype('float32')\n",
    "t_trai = t_trai.astype('int32')\n",
    "\n",
    "x_vali = x_vali.astype('float32')\n",
    "t_vali = t_vali.astype('int32')\n",
    "\n",
    "x_test = x_test.astype('float32')\n",
    "t_test = t_test.astype('int32')\n",
    "\n",
    "\n",
    "# Verify that shapes are as they should\n",
    "print('\\nAfter reshapeing')\n",
    "print('train set', x_trai.shape, t_trai.shape)\n",
    "print('valid set', x_vali.shape, t_vali.shape)\n",
    "print('test  set', x_test.shape, t_test.shape)\n",
    "\n",
    "print('')"
   ]
  },
  {
   "cell_type": "code",
   "execution_count": null,
   "metadata": {
    "collapsed": false
   },
   "outputs": [],
   "source": [
    "%%time\n",
    "### REDUCE DATA SET\n",
    "\n",
    "if reduce_dataset_classes:\n",
    "    print('Reduced number of classes, {} classes'.format(reduce_dataset_classes))\n",
    "    num_classes = reduced_classes\n",
    "    idxs_train = []\n",
    "    idxs_valid = []\n",
    "    idxs_test = []\n",
    "    \n",
    "    if(integer_encoding): ### IF integer encoding\n",
    "        print('integer encoding')\n",
    "        for i in range(num_classes):\n",
    "            idxs_train += np.where(t_trai == i)[0].tolist()\n",
    "            idxs_valid += np.where(t_vali == i)[0].tolist()\n",
    "            idxs_test  += np.where(t_test == i)[0].tolist()\n",
    "        \n",
    "    else: ### IF one-hot encoding\n",
    "        print('one-hot encoding')\n",
    "        int_trai = np.where(t_trai == 1)[1]\n",
    "        int_test = np.where(t_test == 1)[1]\n",
    "        int_vali = np.where(t_vali == 1)[1]\n",
    "        \n",
    "        for i in range(num_classes):\n",
    "            idxs_train += np.where(int_trai == i)[0].tolist()\n",
    "            idxs_valid += np.where(int_vali == i)[0].tolist()\n",
    "            idxs_test  += np.where(int_test == i)[0].tolist()\n",
    "    \n",
    "    x_trai = x_trai[idxs_train]\n",
    "    t_trai = t_trai[idxs_train]\n",
    "    x_trai, t_trai = shuffle(x_trai, t_trai, random_state=random_state)\n",
    "\n",
    "    x_vali = x_vali[idxs_valid]\n",
    "    t_vali = t_vali[idxs_valid]\n",
    "    x_vali, t_vali = shuffle(x_vali, t_vali, random_state=random_state)\n",
    "\n",
    "    x_test = x_test[idxs_test]\n",
    "    t_test = t_test[idxs_test]\n",
    "\n",
    "    if integer_encoding:\n",
    "        t_test = tls.onehot(t_test, num_classes)  # Convert to one-hot encoding\n",
    "        t_vali = tls.onehot(t_vali, num_classes)  # Convert to one-hot encoding\n",
    "        t_trai = tls.onehot(t_trai, num_classes)  # Convert to one-hot encoding\n",
    "\n",
    "    \n",
    "else:\n",
    "    print('Full number of classes')\n",
    "\n",
    "\n",
    "if(reduce_dataset_size): ## Reduce the total size of the data set\n",
    "    print('Reduce size')\n",
    "    x_trai = x_trai[:reduced_size, :]\n",
    "    t_trai = t_trai[:reduced_size]\n",
    "\n",
    "    x_test = x_test[:reduced_size, :]\n",
    "    t_test = t_test[:reduced_size]\n",
    "\n",
    "    x_vali = x_vali[:reduced_size, :]\n",
    "    t_vali = t_vali[:reduced_size]\n",
    "else:\n",
    "    print('Full size')\n",
    "\n",
    "    \n",
    "### Check that that targets are mixed as they should be\n",
    "print(t_trai[:5,:], '\\n')\n",
    "print(t_vali[:5,:], '\\n')\n",
    "print(t_trai[:5,:], '\\n')\n",
    "\n",
    "### Create shared variables, improves GPU performance\n",
    "if create_shared:\n",
    "    print('As shared')\n",
    "    x_trai, t_trai = tls.shared_dataset((x_trai, t_trai), borrow=True)\n",
    "    x_vali, t_vali = tls.shared_dataset((x_vali, t_vali), borrow=True)\n",
    "    x_test, t_test = tls.shared_dataset((x_test, t_test), borrow=True)\n",
    "else:\n",
    "    print('Not shared')\n",
    "\n",
    "print('')"
   ]
  },
  {
   "cell_type": "code",
   "execution_count": null,
   "metadata": {
    "collapsed": false
   },
   "outputs": [],
   "source": []
  },
  {
   "cell_type": "code",
   "execution_count": null,
   "metadata": {
    "collapsed": false
   },
   "outputs": [],
   "source": [
    "### PRINT SUMMARY\n",
    "\n",
    "if create_shared:\n",
    "    print('Size of total dataset: {:.2f} MB'.format(\n",
    "            (\n",
    "                  sys.getsizeof(x_trai.get_value())\n",
    "                + sys.getsizeof(t_trai.eval())\n",
    "                + sys.getsizeof(x_vali.get_value())\n",
    "                + sys.getsizeof(t_vali.eval())\n",
    "                + sys.getsizeof(x_test.get_value())\n",
    "                + sys.getsizeof(t_test.eval())\n",
    "            )/1.0e6))\n",
    "\n",
    "    num_features = x_trai.get_value().shape[-1]\n",
    "    print('num_features {}'.format(num_features))\n",
    "    print('')\n",
    "\n",
    "    print('Train shape: ', x_trai.get_value().shape, t_trai.eval().shape)\n",
    "    print('Valid shape: ', x_vali.get_value().shape, t_vali.eval().shape)\n",
    "    print('Test shape:  ', x_test.get_value().shape, t_test.eval().shape)\n",
    "else:\n",
    "    print('Size of total dataset: {:.2f} MB'.format(\n",
    "            (     sys.getsizeof(x_trai) + sys.getsizeof(t_trai)\n",
    "                + sys.getsizeof(x_vali) + sys.getsizeof(t_vali)\n",
    "                + sys.getsizeof(x_test) + sys.getsizeof(t_test)\n",
    "            )/1.0e6))\n",
    "\n",
    "    num_features = x_trai.shape[-1]\n",
    "    print('num_features {}'.format(num_features))\n",
    "    print('')\n",
    "\n",
    "    print('Train shape: ', x_trai.shape, t_trai.shape)\n",
    "    print('Valid shape: ', x_vali.shape, t_vali.shape)\n",
    "    print('Test  shape: ', x_test.shape, t_test.shape)\n",
    "\n",
    "print('')\n",
    "print('{}, {}'.format(type(x_trai), type(t_trai)))\n",
    "print('{}, {}'.format(type(x_vali), type(t_vali)))\n",
    "print('{}, {}'.format(type(x_test), type(t_test)))\n"
   ]
  },
  {
   "cell_type": "code",
   "execution_count": null,
   "metadata": {
    "collapsed": false,
    "scrolled": false
   },
   "outputs": [],
   "source": [
    "### VISUALIZE DATA, ENSURE THAT EVERYTHING IS OKAY    \n",
    "\n",
    "if create_shared:\n",
    "    print(tls.plot_svhn(x_trai.get_value(), t_trai.eval(), t=5, gray=False))\n",
    "else:\n",
    "    print(tls.plot_svhn(x_trai, t_trai, t=5, gray=False))"
   ]
  },
  {
   "cell_type": "code",
   "execution_count": null,
   "metadata": {
    "collapsed": false
   },
   "outputs": [],
   "source": [
    "### CREATE DATA NAME\n",
    "if reduce_dataset_classes:\n",
    "    f_out_name += '_c' + str(reduced_classes)\n",
    "\n",
    "if reduce_dataset_size:\n",
    "    f_out_name += '_s' + str(reduced_size)\n",
    "    \n",
    "full_path = os.path.join(os.getcwd(), 'data')\n",
    "full_path = os.path.join(full_path, f_out_name)\n",
    "full_path  += '.pkl'\n",
    "print(full_path)\n"
   ]
  },
  {
   "cell_type": "code",
   "execution_count": null,
   "metadata": {
    "collapsed": false
   },
   "outputs": [],
   "source": [
    "%%time\n",
    "\n",
    "### SAVE DATA\n",
    "with open(full_path, 'wb') as f:\n",
    "    pickle.dump((x_trai, t_trai, x_vali, t_vali, x_test, t_test), \n",
    "                f, protocol=pickle.HIGHEST_PROTOCOL)\n",
    "                "
   ]
  },
  {
   "cell_type": "code",
   "execution_count": null,
   "metadata": {
    "collapsed": false
   },
   "outputs": [],
   "source": [
    "%%time\n",
    "\n",
    "### LOAD DATA\n",
    "import cPickle as pickle\n",
    "with open(full_path, 'rb') as f:\n",
    "    x_trai, t_trai, x_vali, t_vali, x_test, t_test = pickle.load(f)\n",
    "\n",
    "print('')\n",
    "if create_shared:\n",
    "    print('Train shape: ', \n",
    "          x_trai.get_value().shape, t_trai.eval().shape)\n",
    "    print(type(x_trai))\n",
    "\n",
    "    print('Valid shape: ', \n",
    "          x_vali.get_value().shape, t_vali.eval().shape)\n",
    "    print(type(x_vali))\n",
    "\n",
    "    print('Test shape:  ', \n",
    "          x_test.get_value().shape, t_test.eval().shape)\n",
    "    print(type(x_test))\n",
    "else:\n",
    "    print('Train shape: ', \n",
    "          x_trai.shape, t_trai.shape)\n",
    "    print(type(x_trai))\n",
    "\n",
    "    print('Valid shape: ', \n",
    "          x_vali.shape, t_vali.shape)\n",
    "    print(type(x_vali))\n",
    "\n",
    "    print('Test shape:  ', \n",
    "          x_test.shape, t_test.shape)\n",
    "    print(type(x_test))\n",
    "print('')"
   ]
  },
  {
   "cell_type": "code",
   "execution_count": null,
   "metadata": {
    "collapsed": false
   },
   "outputs": [],
   "source": [
    "### Check that that targets are mixed as they should be\n",
    "print(t_trai[:10,:])\n",
    "print(t_vali[:10,:])\n",
    "print(t_test[:10,:])"
   ]
  }
 ],
 "metadata": {
  "anaconda-cloud": {},
  "kernelspec": {
   "display_name": "Python [conda root]",
   "language": "python",
   "name": "conda-root-py"
  },
  "language_info": {
   "codemirror_mode": {
    "name": "ipython",
    "version": 2
   },
   "file_extension": ".py",
   "mimetype": "text/x-python",
   "name": "python",
   "nbconvert_exporter": "python",
   "pygments_lexer": "ipython2",
   "version": "2.7.12"
  }
 },
 "nbformat": 4,
 "nbformat_minor": 0
}

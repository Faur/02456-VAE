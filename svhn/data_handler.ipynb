{
 "cells": [
  {
   "cell_type": "code",
   "execution_count": null,
   "metadata": {
    "collapsed": false
   },
   "outputs": [],
   "source": [
    "%%time \n",
    "\n",
    "# Python 2.7\n",
    "%matplotlib nbagg\n",
    "%matplotlib inline \n",
    "\n",
    "import os\n",
    "import sys\n",
    "print(sys.version)\n",
    "\n",
    "\n",
    "import cPickle as pickle\n",
    "import scipy.io\n",
    "import numpy as np\n",
    "# import matplotlib.pyplot as plt\n",
    "# import theano\n",
    "# import theano.tensor as T\n",
    "# import lasagne \n",
    "# import lasagne.layers as L\n",
    "\n",
    "import tools as tls\n",
    "\n",
    "from sklearn.utils import shuffle\n",
    "from data_loaders import svhn\n"
   ]
  },
  {
   "cell_type": "code",
   "execution_count": null,
   "metadata": {
    "collapsed": true
   },
   "outputs": [],
   "source": [
    "### META - HOW THE PROGRAM WORKS\n",
    "reduce_dataset_size = False\n",
    "reduced_size = 10000\n",
    "\n",
    "reduce_dataset_classes = True\n",
    "reduced_classes = 3\n",
    "\n",
    "integet_encoding = False # Are the targets integers or one-hot?\n",
    "\n",
    "random_state = 1234"
   ]
  },
  {
   "cell_type": "code",
   "execution_count": null,
   "metadata": {
    "collapsed": false
   },
   "outputs": [],
   "source": [
    "%%time\n",
    "\n",
    "### LOAD DATA!\n",
    "# Source: http://ufldl.stanford.edu/housenumbers/\n",
    "\n",
    "\n",
    "(x_trai, t_trai), (x_test, t_test), (x_vali, t_vali) = \\\n",
    "    svhn.load_supervised(conv=False, extra=False, normalize=True)\n",
    "\n",
    "# print('train_set', train_set[0].shape, train_set[1].shape)\n",
    "# print('train_set', test_set[0].shape, test_set[1].shape)\n",
    "# print('train_set', valid_set[0].shape, valid_set[1].shape)\n",
    "\n",
    "if(reduce_dataset_size): ## Reduce the total size of the data set\n",
    "    print('Reduce size')\n",
    "    x_trai = x_trai[:reduced_size, :]\n",
    "    t_trai = t_trai[:reduced_size]\n",
    "\n",
    "    x_test = x_test[:reduced_size, :]\n",
    "    t_test = t_test[:reduced_size]\n",
    "\n",
    "    x_vali = x_vali[:reduced_size, :]\n",
    "    t_vali = t_vali[:reduced_size]\n",
    "\n",
    "print('train set', x_trai.shape, t_trai.shape)\n",
    "print('valid set', x_vali.shape, t_vali.shape)\n",
    "print('test  set', x_test.shape, t_test.shape)\n",
    "\n"
   ]
  },
  {
   "cell_type": "code",
   "execution_count": null,
   "metadata": {
    "collapsed": false
   },
   "outputs": [],
   "source": [
    "%%time\n",
    "\n",
    "### REDUCE DATA SET\n",
    "\n",
    "def bernoullisample(x):\n",
    "    return np.random.binomial(1,x,size=x.shape).astype(theano.config.floatX)\n",
    "\n",
    "if reduce_dataset_classes:\n",
    "    print('Reduced dataset, with {} classes'.format(reduce_dataset_classes))\n",
    "    num_classes = reduced_classes\n",
    "    idxs_train = []\n",
    "    idxs_valid = []\n",
    "    idxs_test = []\n",
    "\n",
    "    if(integet_encoding): ### IF integer encoding\n",
    "        print('integer encoding')\n",
    "        idxs_train += np.where(t_trai == i)[0].tolist()\n",
    "        idxs_valid += np.where(t_vali == i)[0].tolist()\n",
    "        idxs_test  += np.where(t_test == i)[0].tolist()\n",
    "    \n",
    "    else: ### IF one-hot encoding\n",
    "        print('one-hot encoding')\n",
    "        int_trai = np.where(t_trai == 1)[1]\n",
    "        int_test = np.where(t_test == 1)[1]\n",
    "        int_vali = np.where(t_vali == 1)[1]\n",
    "        \n",
    "        for i in range(num_classes):\n",
    "            idxs_train += np.where(int_trai == i)[0].tolist()\n",
    "            idxs_valid += np.where(int_vali == i)[0].tolist()\n",
    "            idxs_test  += np.where(int_test == i)[0].tolist()\n",
    "        \n",
    "\n",
    "#     x_trai = bernoullisample(x_trai[idxs_train]).astype('float32')\n",
    "    x_trai = x_trai[idxs_train, :].astype('float32')\n",
    "    t_trai = t_trai[idxs_train].astype('int32') \n",
    "    x_trai, t_trai = shuffle(x_trai, t_trai, random_state=random_state)\n",
    "\n",
    "#     x_vali = bernoullisample(x_vali[idxs_valid]).astype('float32')\n",
    "    x_vali = x_vali[idxs_valid].astype('float32')\n",
    "    t_vali = t_vali[idxs_valid].astype('int32')\n",
    "\n",
    "#     x_test = bernoullisample(x_test[idxs_test]).astype('float32')\n",
    "    x_test = x_test[idxs_test].astype('float32')\n",
    "    t_test = t_test[idxs_test].astype('int32')\n",
    "else:\n",
    "    print('Full dataset')\n",
    "#     x_trai = bernoullisample(x_trai).astype('float32')\n",
    "    x_trai = x_trai.astype('float32')\n",
    "    t_trai = t_trai.astype('int32') \n",
    "    x_trai, t_trai = shuffle(x_trai, t_trai, random_state=random_state)\n",
    "\n",
    "#     x_vali = bernoullisample(x_vali).astype('float32')\n",
    "    x_vali = x_vali.astype('float32')\n",
    "    t_vali = t_vali.astype('int32')\n",
    "\n",
    "#     x_test = bernoullisample(x_test).astype('float32')\n",
    "    x_test = x_test.astype('float32')\n",
    "    t_test = t_test.astype('int32')\n",
    "    \n",
    "x_trai, t_trai = tls.shared_dataset((x_trai, t_trai), borrow=True)\n",
    "x_vali, t_vali = tls.shared_dataset((x_vali, t_vali), borrow=True)\n",
    "x_test, t_test = tls.shared_dataset((x_test, t_test), borrow=True)\n"
   ]
  },
  {
   "cell_type": "code",
   "execution_count": null,
   "metadata": {
    "collapsed": false
   },
   "outputs": [],
   "source": [
    "print('Size of total dataset: {:.2f} MB'.format(\n",
    "        (\n",
    "              sys.getsizeof(x_trai.get_value())\n",
    "            + sys.getsizeof(t_trai.eval())\n",
    "            + sys.getsizeof(x_vali.get_value())\n",
    "            + sys.getsizeof(t_vali.eval())\n",
    "            + sys.getsizeof(x_test.get_value())\n",
    "            + sys.getsizeof(t_test.eval())\n",
    "        )/1.0e6))\n",
    "\n",
    "num_features = x_trai.get_value().shape[-1]\n",
    "print('num_features {}'.format(num_features))\n",
    "print('')\n",
    "\n",
    "print('Train shape: ', x_trai.get_value().shape, t_trai.eval().shape)\n",
    "print('Valid shape: ', x_vali.get_value().shape, t_vali.eval().shape)\n",
    "print('Test shape:  ', x_test.get_value().shape, t_test.eval().shape)\n",
    "\n",
    "print('{}'.format(type(x_trai)))\n",
    "print('{}'.format(type(x_vali)))\n",
    "print('{}'.format(type(x_test)))\n",
    "\n"
   ]
  },
  {
   "cell_type": "code",
   "execution_count": null,
   "metadata": {
    "collapsed": false
   },
   "outputs": [],
   "source": [
    "### VISUALIZE DATA, ENSURE THAT EVERYTHING IS OKAY\n",
    "\n",
    "tls.plot_svhn(x_trai.get_value(), t=10)"
   ]
  },
  {
   "cell_type": "code",
   "execution_count": null,
   "metadata": {
    "collapsed": false
   },
   "outputs": [],
   "source": [
    "### CREATE DATA NAME\n",
    "name = 'data'\n",
    "if reduce_dataset_classes:\n",
    "    name += '_c' + str(reduced_classes)\n",
    "\n",
    "if reduce_dataset_size:\n",
    "    name += '_s' + str(reduced_size)\n",
    "    \n",
    "full_path = os.path.join(os.getcwd(), 'data')\n",
    "full_path = os.path.join(full_path, name)\n",
    "full_path  += '.pkl'\n",
    "print(full_path)\n"
   ]
  },
  {
   "cell_type": "code",
   "execution_count": null,
   "metadata": {
    "collapsed": false
   },
   "outputs": [],
   "source": [
    "%%time\n",
    "\n",
    "### SAVE DATA\n",
    "with open(full_path, 'wb') as f:\n",
    "    pickle.dump((x_trai, t_trai, x_vali, t_vali, x_test, t_test), \n",
    "                f, protocol=pickle.HIGHEST_PROTOCOL)\n",
    "                "
   ]
  },
  {
   "cell_type": "code",
   "execution_count": null,
   "metadata": {
    "collapsed": false
   },
   "outputs": [],
   "source": [
    "%%time\n",
    "\n",
    "### LOAD DATA\n",
    "import cPickle as pickle\n",
    "with open(full_path, 'rb') as f:\n",
    "    x_trai, t_trai, x_vali, t_vali, x_test, t_test = pickle.load(f)\n",
    "\n",
    "print('')\n",
    "print('Train shape: ', \n",
    "      x_trai.get_value().shape, t_trai.eval().shape)\n",
    "print(type(x_trai))\n",
    "\n",
    "print('Valid shape: ', \n",
    "      x_vali.get_value().shape, t_vali.eval().shape)\n",
    "print(type(x_vali))\n",
    "\n",
    "print('Test shape:  ', \n",
    "      x_test.get_value().shape, t_test.eval().shape)\n",
    "print(type(x_test))\n",
    "print('')"
   ]
  },
  {
   "cell_type": "code",
   "execution_count": null,
   "metadata": {
    "collapsed": true
   },
   "outputs": [],
   "source": []
  },
  {
   "cell_type": "code",
   "execution_count": null,
   "metadata": {
    "collapsed": true
   },
   "outputs": [],
   "source": []
  }
 ],
 "metadata": {
  "kernelspec": {
   "display_name": "Python [Root]",
   "language": "python",
   "name": "Python [Root]"
  },
  "language_info": {
   "codemirror_mode": {
    "name": "ipython",
    "version": 2
   },
   "file_extension": ".py",
   "mimetype": "text/x-python",
   "name": "python",
   "nbconvert_exporter": "python",
   "pygments_lexer": "ipython2",
   "version": "2.7.12"
  }
 },
 "nbformat": 4,
 "nbformat_minor": 0
}

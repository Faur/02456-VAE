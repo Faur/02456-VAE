{
 "cells": [
  {
   "cell_type": "code",
   "execution_count": null,
   "metadata": {
    "collapsed": false
   },
   "outputs": [],
   "source": [
    "%%time\n",
    "# Python 2.7\n",
    "\n",
    "%matplotlib nbagg\n",
    "%matplotlib inline \n",
    "\n",
    "import sys\n",
    "sys.path\n",
    "sys.path.append('..')\n",
    "print(sys.version)\n",
    "\n",
    "import os\n",
    "import cPickle \n",
    "import scipy.io\n",
    "import numpy as np\n",
    "import matplotlib.pyplot as plt\n",
    "import theano\n",
    "import theano.tensor as T\n",
    "import lasagne \n",
    "import lasagne.layers as L\n",
    "import parmesan\n",
    "import cPickle as pickle\n",
    "\n",
    "from sklearn.utils import shuffle\n",
    "\n",
    "import tools as tls\n",
    "\n",
    "\n",
    "from data_loaders import svhn\n",
    "\n"
   ]
  },
  {
   "cell_type": "code",
   "execution_count": null,
   "metadata": {
    "collapsed": false
   },
   "outputs": [],
   "source": [
    "### GLOBAL PARAMETERS ###\n",
    "\n",
    "### META - HOW THE PROGRAM WORKS\n",
    "file_name = 'data_no_share_c3' # assumes '.pkl'\n",
    "np.random.seed(1234) # reproducibility\n",
    "\n",
    "### CONSTANTS\n",
    "IMG_LEN = 32\n",
    "\n",
    "\n"
   ]
  },
  {
   "cell_type": "code",
   "execution_count": null,
   "metadata": {
    "collapsed": false
   },
   "outputs": [],
   "source": [
    "%%time\n",
    "### LOAD DATA\n",
    "\n",
    "\n",
    "full_path = os.path.join(os.getcwd(), 'data')\n",
    "full_path = os.path.join(full_path, file_name)\n",
    "full_path  += '.pkl'\n",
    "print(full_path)\n",
    "\n",
    "with open(full_path, 'rb') as f:\n",
    "    x_trai, t_trai, x_vali, t_vali, x_test, t_test = pickle.load(f)\n",
    "\n",
    "print('Size of total dataset: {:.2f} MB'.format(\n",
    "        (\n",
    "              sys.getsizeof(x_trai)\n",
    "            + sys.getsizeof(t_trai)\n",
    "            + sys.getsizeof(x_vali)\n",
    "            + sys.getsizeof(t_vali)\n",
    "            + sys.getsizeof(x_test)\n",
    "            + sys.getsizeof(t_test)\n",
    "        )/1.0e6))"
   ]
  },
  {
   "cell_type": "code",
   "execution_count": null,
   "metadata": {
    "collapsed": false
   },
   "outputs": [],
   "source": [
    "### CHECK DATA\n",
    "num_classes = np.unique(np.where(t_trai == 1)[1]).shape[0]\n",
    "print('Number of classes {}'.format(num_classes))\n",
    "\n",
    "num_features = x_trai[0].shape[0]\n",
    "print('Number of features {}'.format(num_features))\n",
    "\n",
    "print('')\n",
    "print('Train shape: ', \n",
    "      x_trai.shape, t_trai.shape)\n",
    "\n",
    "print('Valid shape: ', \n",
    "      x_vali.shape, t_vali.shape)\n",
    "\n",
    "print('Test shape:  ', \n",
    "      x_test.shape, t_test.shape)\n",
    "\n",
    "print('{}'.format(type(x_trai)))\n",
    "print('{}'.format(type(x_vali)))\n",
    "print('{}'.format(type(x_test)))\n",
    "print('')\n"
   ]
  },
  {
   "cell_type": "code",
   "execution_count": null,
   "metadata": {
    "collapsed": false
   },
   "outputs": [],
   "source": [
    "### VISUALIZE \n",
    "\n",
    "# TODO: WHEN normalize/renormalize are made DO add color to this function\n",
    "\n",
    "tls.plot_svhn(x_trai, t=10)"
   ]
  },
  {
   "cell_type": "code",
   "execution_count": null,
   "metadata": {
    "collapsed": true
   },
   "outputs": [],
   "source": [
    "### HYPER PARAMETERS\n",
    "# VOLATILE HP\n",
    "learning_rate = 1e-4\n",
    "L1 = 0\n",
    "L2 = 0\n",
    "\n",
    "batch_size = 60\n",
    "samples_to_process = 1e5\n",
    "val_interval       = 600\n",
    "\n",
    "# ARCHITECTURE\n",
    "fraction = 0.1\n",
    "hid_size = 50\n",
    "num_latent_1 = round(hid_size*fraction)\n",
    "\n",
    "# STABLE HP\n",
    "eq_size = 1\n",
    "iw_size = 1\n",
    "max_epoch = 100\n"
   ]
  },
  {
   "cell_type": "code",
   "execution_count": null,
   "metadata": {
    "collapsed": true
   },
   "outputs": [],
   "source": [
    "### HELPER FUNCTIONS\n",
    "from lasagne.objectives import squared_error\n",
    "\n",
    "def onehot(t, num_classes):\n",
    "    out = np.zeros((t.shape[0], num_classes)).astype('float32')\n",
    "    for row, col in enumerate(t):\n",
    "        out[row, col] = 1\n",
    "    return out\n",
    "\n",
    "\n",
    "# c = -0.5 * np.log(2*np.pi)\n",
    "clip = lambda x: T.clip(x,-10,10) #used to limit the variance (why?)\n",
    "\n",
    "def log_bernoulli(x, p, eps=1e-32):\n",
    "    \"\"\"\n",
    "    Computes the binary cross-entropy between a target and \n",
    "\n",
    "    Use eps if you don't want to alow values ==0, ==1\n",
    "    \"\"\"\n",
    "\n",
    "    p = T.clip(p, eps, 1.0 - eps)\n",
    "    return -T.nnet.binary_crossentropy(p, x)\n",
    "\n",
    "\n",
    "\n",
    "def kl_normal_2_stdnormal(mu, lv):\n",
    "    \"\"\"Compute the KL divergence from the standard normal dist\"\"\"\n",
    "    return - 0.5 * (1 + lv - mu**2 - T.exp(lv))\n",
    "\n",
    "\n",
    "def ReconLogLikelihood(mux, x, muq, lvq):\n",
    "    \"\"\"\n",
    "    Compute the cost of the network, using \n",
    "    \"\"\"\n",
    "    #Sum over the latent dimension, mean over the the samples\n",
    "    reconstruction_cost = -squared_error(x, mux).sum(axis=1).mean()\n",
    "    #reconstruction_cost = log_bernoulli(x, mux).sum(axis=1)\n",
    "    #epsilon = 1e-8\n",
    "    #reconstruction_cost =( x * T.log(mux + epsilon) + (1-x)*T.log(1-mux+epsilon))\n",
    "    KL_qp = kl_normal_2_stdnormal(muq, lvq).sum(axis=1)#.mean()\n",
    "    \n",
    "    LL = reconstruction_cost - KL_qp\n",
    "    \n",
    "    return LL, reconstruction_cost, KL_qp\n",
    "\n",
    "\n",
    "def LogSumExp(x, axis=None, keepdims=False):\n",
    "    ''' Numerically stable theano version of the Log-Sum-Exp trick'''\n",
    "    x_max = T.max(x, axis=axis, keepdims=True)\n",
    "\n",
    "    preres = T.log(T.sum(T.exp(x - x_max), axis=axis, keepdims=keepdims))\n",
    "    return preres + x_max.reshape(preres.shape)"
   ]
  },
  {
   "cell_type": "code",
   "execution_count": null,
   "metadata": {
    "collapsed": false
   },
   "outputs": [],
   "source": [
    "%%time\n",
    "### CREATE MODEL\n",
    "from lasagne.nonlinearities import leaky_rectify, rectify, sigmoid,softmax\n",
    "from parmesan.layers import SampleLayer\n",
    "### CLASSIFIER\n",
    "l_in_x   = L.InputLayer(shape=(None, num_features))#, name='l_in_x')\n",
    "l_in_y   = L.InputLayer(shape=(None, num_classes))#, name='l_in_y')\n",
    "l_in_x_con= L.InputLayer(shape=(None, num_features))#, name='l_in_x')\n",
    "\n",
    "\n",
    "l_cl_1   = L.DenseLayer(l_in_x, \n",
    "                        num_units=hid_size,\n",
    "                        nonlinearity=rectify)#,\n",
    "#                        name='l_cl_1')\n",
    "l_cl_2   = L.DenseLayer(l_cl_1,\n",
    "                        num_units=hid_size,\n",
    "                        nonlinearity=rectify)#,\n",
    "#                        name='l_cl_2')\n",
    "l_y    = L.DenseLayer(l_cl_2, \n",
    "                        num_units=num_classes,\n",
    "                        nonlinearity=softmax)#,\n",
    "#                        name='l_y')\n",
    "\n",
    "## CONVULUTIONAL CLASSIFIER\n",
    "l_in_class = L.InputLayer(shape=(None,3,32,32)) #note that we use a 4D input since we need to retain the spatial arrangement of the pixels when working with convolutions\n",
    "l_conv_cl_1 = L.Conv2DLayer(l_in_class,num_filters=hid_size//32,filter_size=3 ,pad=(1,1))#32*32*hid_size//32\n",
    "l_conv_cl_1_pool = L.MaxPool2DLayer(l_conv_cl_1,pool_size=(2, 2),stride = 2)\n",
    "l_conv_cl_2 =L.Conv2DLayer(l_conv_cl_1_pool,num_filters=hid_size//16,filter_size=3,pad=(1,1))#16*16*hid_size//16\n",
    "l_conv_cl_2_pool = L.MaxPool2DLayer(l_conv_cl_2,pool_size=(2, 2),stride = 2)\n",
    "l_conv_cl_3 =L.Conv2DLayer(l_conv_cl_2_pool,num_filters=hid_size//8,filter_size=3,pad=(1,1))#8*8*hid_size//8\n",
    "l_conv_cl_3_pool = L.MaxPool2DLayer(l_conv_cl_3,pool_size=(2, 2),stride = 2)\n",
    "l_conv_cl_3 =L.Conv2DLayer(l_conv_cl_2_pool,num_filters=hid_size//4,filter_size=3,pad=(1,1))#4*4*hid_size//4\n",
    "l_conv_cl_dense=L.DenseLayer(l_conv_cl_3, num_units=hid_size//2, nonlinearity=rectify)\n",
    "l_out_class = L.DenseLayer(l_conv_cl_dense, num_units=num_classes, nonlinearity=softmax)\n",
    "    \n",
    "    \n",
    "### ENCODER\n",
    "l_en_con = L.ConcatLayer([l_in_x, l_in_y])#,name='l_en_con')\n",
    "\n",
    "l_en_1   = L.DenseLayer(l_en_con, \n",
    "                        num_units=hid_size,\n",
    "                        nonlinearity=rectify)#,\n",
    "#                        name='l_en_1')\n",
    "l_en_2   = L.DenseLayer(l_en_1,\n",
    "                        num_units=hid_size,\n",
    "                        nonlinearity=rectify)#,\n",
    "#                        name='l_en_2')\n",
    "\n",
    "\n",
    "# Create latent parameters\n",
    "l_mu_1   = L.DenseLayer(l_en_2,\n",
    "                        num_units=num_latent_1,\n",
    "                        nonlinearity=None)#,\n",
    "#                        name='l_mu_1')\n",
    "l_lv_1   = L.DenseLayer(l_en_2,\n",
    "                        num_units=num_latent_1,\n",
    "                        nonlinearity=clip)#,\n",
    "#                        name='l_lv_1')\n",
    "\n",
    "# sample a latent representation:\n",
    "#    z ~ q(z|x) = N(mu(x), logvar(x)\n",
    "l_z_1      = SampleLayer(mean=l_mu_1, \n",
    "                         log_var=l_lv_1, \n",
    "                         eq_samples=eq_size, \n",
    "                         iw_samples=iw_size)#, \n",
    "#                         name='l_z_1')\n",
    "\n",
    "### DECODER\n",
    "\n",
    "l_in_z   = L.InputLayer(shape=(None, num_latent_1))#,\n",
    "#                        name = 'l_in_z')\n",
    "\n",
    "l_dec_con = L.ConcatLayer([l_in_z, l_in_y])#,name='l_en_con')\n",
    "\n",
    "l_dec_1  = L.DenseLayer(l_dec_con, \n",
    "                        num_units = hid_size,\n",
    "                        nonlinearity = rectify)#,\n",
    "#                        name = 'l_dec_1')\n",
    "l_dec_2  = L.DenseLayer(l_dec_1, \n",
    "                        num_units = hid_size,\n",
    "                        nonlinearity = rectify)#,\n",
    "#                       name='l_dec_2')\n",
    "\n",
    "# Sigmoid is used because the original images are $\\in [0,1]$\n",
    "l_out    = L.DenseLayer(l_dec_2, \n",
    "                        num_units=num_features,\n",
    "                        nonlinearity=sigmoid)#,\n",
    "#                        name='l_out')"
   ]
  },
  {
   "cell_type": "code",
   "execution_count": null,
   "metadata": {
    "collapsed": false
   },
   "outputs": [],
   "source": [
    "%%time\n",
    "from lasagne.objectives import categorical_crossentropy, categorical_accuracy\n",
    "##################GENERATING RECONSTRUCTIONS AND CLASSES\n",
    "\n",
    "sym_x = T.matrix('x') # (batch_size x 3072)\n",
    "sym_z = T.matrix('z') # Latent variable (batch_size x num_latent)\n",
    "sym_y = T.matrix('y_l') # Latent variable (batch_size x num_classes)\n",
    "sym_x_l = T.matrix('x_l') # Latent variable (batch_size x 3072)\n",
    "\n",
    "\n",
    "####### Repeatition of data for unsupervised learning\n",
    "t_eye = T.eye(num_classes, k=0)\n",
    "t_u = t_eye.reshape((num_classes, 1, num_classes)).repeat(sym_x.shape[0], axis=1).reshape((-1, num_classes))\n",
    "x_u = sym_x.reshape((1, sym_x.shape[0], sym_x.shape[1])).repeat(num_classes, axis=0).reshape((-1, sym_x.shape[1]))\n",
    "#x_u = T.slinalg.kron(sym_x,T.ones((num_classes,1))) \n",
    "\n",
    "\n",
    "#####################SUPERVISED###################\n",
    "\n",
    "y_train_l= L.get_output(l_y,{l_in_x:sym_x_l},deterministic = False)#Classifier\n",
    "\n",
    "z_train_l, mu_train_l, lv_train_l = L.get_output([l_z_1, l_mu_1, l_lv_1],#Encoder\n",
    "                                           {l_in_x:sym_x_l,l_in_y:sym_y}, deterministic = False)\n",
    "\n",
    "recon_train_l = L.get_output(l_out,{l_in_z:z_train_l,l_in_y:sym_y},deterministic = False)#Decoder\n",
    "\n",
    "#Likelihood\n",
    "LL_rec_train_l, log_px_train_l, KL_train_l = ReconLogLikelihood(recon_train_l, sym_x_l, mu_train_l, lv_train_l)\n",
    "\n",
    "LL_train_l=T.mean(LL_rec_train_l+0.1*T.sum(sym_y*T.log(y_train_l+1e-8)))\n",
    "\n",
    "\n",
    "#############UNSUPERVISED####################\n",
    "y_train_u= L.get_output(l_y,{l_in_x:sym_x},deterministic = False)#Classifier\n",
    "\n",
    "z_train_u, mu_train_u, lv_train_u = L.get_output([l_z_1, l_mu_1, l_lv_1],#Encoder\n",
    "                                           {l_in_x:x_u,l_in_y:t_u}, deterministic = False)\n",
    "\n",
    "recon_train_u = L.get_output(l_out,{l_in_z:z_train_u,l_in_y:t_u}, deterministic = False)#Decoder\n",
    "\n",
    "#Likelihood\n",
    "LL_rec_train_u, log_px_train_u, KL_train_u = ReconLogLikelihood(recon_train_u, x_u, mu_train_u, lv_train_u)\n",
    "LL_rec_train_u = LL_rec_train_u.reshape((num_classes,sym_x.shape[0])).T\n",
    "LL_train_u=T.mean(T.sum(y_train_u*LL_rec_train_u,axis=1))\n",
    "\n",
    "\n",
    "################## EVALUATION##############################\n",
    "y_eval = L.get_output(l_y,{l_in_x:sym_x},deterministic = True) #Classifier\n",
    "\n",
    "z_eval, mu_eval, lv_eval = L.get_output([l_z_1, l_mu_1, l_lv_1],#Encoder using same split as unsupervised\n",
    "                                           {l_in_x:x_u,l_in_y:t_u}, deterministic = True)\n",
    "\n",
    "recon_eval                   = L.get_output(l_out,{l_in_z:z_eval,l_in_y:t_u},deterministic = True) #Decoder\n",
    "\n",
    "LL_rec_eval, log_px_eval, KL_eval = ReconLogLikelihood(recon_eval, sym_x, mu_eval, lv_eval)\n",
    "LL_rec_eval = LL_rec_eval.reshape((num_classes,sym_x.shape[0])).T\n",
    "\n",
    "LL_eval=T.mean(T.sum(y_eval*LL_rec_eval,axis=1))\n",
    "\n",
    "p = [y_eval.shape,LL_rec_eval.shape]\n",
    "size_f = theano.function=([y_eval,LL_rec_eval],p)\n",
    "#########Training likelihood\n",
    "LL_train=LL_train_u+LL_train_l\n"
   ]
  },
  {
   "cell_type": "code",
   "execution_count": null,
   "metadata": {
    "collapsed": false
   },
   "outputs": [],
   "source": [
    "#Define variables to output\n",
    "#LL_train,LL_train_u,LL_train_l allready defined\n",
    "certainty_class_u=T.mean(T.max(y_train_u,axis=-1))\n",
    "prob_recon_u=T.exp(LL_rec_train_u-LogSumExp(LL_rec_train_u,axis=-1,keepdims=True))\n",
    "certainty_recon_u=T.mean(T.argmax(prob_recon_u,axis=-1))\n",
    "mean_var_u=T.mean(lv_train_u)\n",
    "recon_class_same_u=categorical_crossentropy(prob_recon_u,y_train_u)\n",
    "\n",
    "#supervised outputs\n",
    "certainty_class_l=T.mean(T.max(y_train_l,axis=-1))\n",
    "mean_var_l=T.mean(lv_train_l)\n",
    "\n"
   ]
  },
  {
   "cell_type": "code",
   "execution_count": null,
   "metadata": {
    "collapsed": false
   },
   "outputs": [],
   "source": [
    "%%time\n",
    "### CREATE TRAINING FUNCTIONS\n",
    "all_params = L.get_all_params([l_z_1, l_out,l_y], trainable=True)\n",
    "all_grads  = T.grad(-LL_train, all_params)\n",
    "\n",
    "updates    = lasagne.updates.adam(all_grads, all_params,\n",
    "                                  learning_rate=learning_rate)\n",
    "\n",
    "# Training function: Return loss, and update weights\n",
    "f_train = theano.function(inputs=[sym_x,sym_x_l,sym_y],\n",
    "                          outputs=[LL_train,\n",
    "                                   LL_train_u,\n",
    "                                   LL_train_l,\n",
    "                                   certainty_class_u,\n",
    "                                   mean_var_u,\n",
    "                                   recon_class_same_u,\n",
    "                                   certainty_class_l,\n",
    "                                   mean_var_l,\n",
    "                                   prob_recon_u,\n",
    "                                   y_train_u],\n",
    "                          updates=updates)\n",
    "\n",
    "# Evaluation function: Return loss\n",
    "f_eval = theano.function(inputs=[sym_x],\n",
    "                         outputs=[LL_eval])\n",
    "\n",
    "# Get latent variable values\n",
    "f_z = theano.function(inputs=[sym_x], outputs=[z_eval])\n",
    "\n",
    "# Return the reconstruction\n",
    "#f_reconstruction = theano.function(inputs=[sym_x], outputs=[out_eval])\n",
    "\n",
    "# Simulate artificial data, given an artificial latent variable\n",
    "#f_simulate = theano.function(inputs=[sym_z], outputs=[mux_sample])\n"
   ]
  },
  {
   "cell_type": "code",
   "execution_count": null,
   "metadata": {
    "collapsed": false
   },
   "outputs": [],
   "source": [
    "#test functions\n",
    "test_y=np.random.randint(num_classes, size=(50)).astype('float32') #dummy data\n",
    "test_y=onehot(test_y,num_classes)\n",
    "test_x =np.random.normal(0,1, (200, 32*32*3)).astype('float32') #dummy data\n",
    "text_x_l=np.random.normal(0,1, (50, 32*32*3)).astype('float32') #dummy data\n",
    "\n",
    "f_temp = theano.function(inputs=[sym_x,sym_x_l,sym_y],\n",
    "                          outputs=[LL_train,LL_train_u,LL_train_l,certainty_class_u,mean_var_u,certainty_class_l,mean_var_l,prob_recon_u,y_train_u]#,,\n",
    "#        prob_recon_u],\n",
    "                          ,updates=updates)\n",
    "out=f_temp(test_x,text_x_l,test_y)\n",
    "#[LL_train,LL_train_u,LL_train_l,certainty_class_u,mean_var_u,recon_class_same_u,certainty_class_l,mean_var_l,\n",
    "#        prob_recon_u,y_train_u]"
   ]
  },
  {
   "cell_type": "code",
   "execution_count": null,
   "metadata": {
    "collapsed": false
   },
   "outputs": [],
   "source": [
    "print(num_classes)"
   ]
  },
  {
   "cell_type": "code",
   "execution_count": null,
   "metadata": {
    "collapsed": false
   },
   "outputs": [],
   "source": [
    "# Generate a subset of labeled data points\n",
    "\n",
    "num_labeled = 3 # You decide on the size of the fraction...\n",
    "\n",
    "idxs_train_l = []\n",
    "for i in range(num_classes):\n",
    "    idxs = np.where(np.argmax(t_trai,axis=-1) == i)[0]\n",
    "    idxs_train_l += np.random.choice(idxs, size=num_labeled).tolist()\n",
    "\n",
    "x_train_l = x_trai[idxs_train_l]\n",
    "t_train_l = (t_trai[idxs_train_l,:])"
   ]
  },
  {
   "cell_type": "code",
   "execution_count": null,
   "metadata": {
    "collapsed": false
   },
   "outputs": [],
   "source": [
    "t_train_l"
   ]
  },
  {
   "cell_type": "code",
   "execution_count": null,
   "metadata": {
    "collapsed": false,
    "scrolled": false
   },
   "outputs": [],
   "source": [
    "# TRAINING\n",
    "\n",
    "LL_train, KL_train, logpx_train = [],[],[]\n",
    "LL_valid, KL_valid, logpx_valid = [],[],[]\n",
    "samples_processed = 0\n",
    "plt_vals = []\n",
    "plt_vals_t = []\n",
    "samples_processed =0\n",
    "valid_samples_processed = []\n",
    "scalarInputs=8\n",
    "NonScalarInputs=4\n",
    "out_accum=[0]*(scalarInputs+NonScalarInputs)\n",
    "\n",
    "try:\n",
    "    while samples_processed < samples_to_process:\n",
    "#        print(\"Number of samples processed: {}\".format(samples_processed))\n",
    "        idxs = np.random.choice(range(x_trai.shape[0]), size=(batch_size), replace=False) \n",
    "        x_batch = x_trai[idxs]\n",
    "        t_batch = t_trai[idxs]\n",
    "        out = f_train(x_batch, x_train_l, t_train_l)\n",
    "#        uns_results.add_batch([out,t_batch],batch_size)\n",
    "  \n",
    "        mean_factor=min(0.99,samples_processed/batch_size)\n",
    "        samples_processed += batch_size\n",
    "\n",
    "#        print(out_accum[i],mean_factor,(1-mean_factor),out[i])\n",
    "\n",
    "        for i in range(scalarInputs):\n",
    "            out_accum[i]=out_accum[i]*mean_factor+(1-mean_factor)*out[i]\n",
    "        \n",
    "        plt_vals += [out_accum[0]]\n",
    "        plt_vals_t += [out_accum[4]]\n",
    "        print(\"Samples processed: {} \".format(samples_processed))   \n",
    "        print(\"Accumulated outs: {}\".format(out_accum[0:3]))\n",
    "        \n",
    "        if samples_processed % val_interval == 0:\n",
    "            valid_samples_processed += [samples_processed]\n",
    "            size_f(y_eval,LL_rec_eval)\n",
    "            out = f_eval(x_trai)\n",
    "            LL_train += [out[0]] \n",
    "            logpx_train += [out[1]]\n",
    "            KL_train += [out[2]]\n",
    "            \n",
    "            out = f_eval(x_vali)\n",
    "            LL_valid += [out[0]]\n",
    "            logpx_valid += [out[1]]\n",
    "            KL_valid += [out[2]]\n",
    "            \n",
    "            z_eval = f_z(x_vali)[0]\n",
    "            x_sample = f_sample(np.random.normal(size=(100, num_latent_z)).astype('float32'))[0]\n",
    "            x_sample = f_sample(np.random.normal(size=(100, num_latent_z * size_up_factor)).astype('float32'))[0]\n",
    "            x_recon = f_recon(x_valid)[0]\n",
    "\n",
    "            \n",
    "except KeyboardInterrupt:\n",
    "    pass\n"
   ]
  },
  {
   "cell_type": "code",
   "execution_count": null,
   "metadata": {
    "collapsed": false
   },
   "outputs": [],
   "source": [
    "plt_vals"
   ]
  },
  {
   "cell_type": "code",
   "execution_count": null,
   "metadata": {
    "collapsed": false
   },
   "outputs": [],
   "source": [
    "plt.plot(plt_vals)"
   ]
  },
  {
   "cell_type": "code",
   "execution_count": null,
   "metadata": {
    "collapsed": false
   },
   "outputs": [],
   "source": [
    "plt.plot(plt_vals_t)"
   ]
  },
  {
   "cell_type": "code",
   "execution_count": null,
   "metadata": {
    "collapsed": false
   },
   "outputs": [],
   "source": [
    "25362*3"
   ]
  },
  {
   "cell_type": "code",
   "execution_count": null,
   "metadata": {
    "collapsed": true
   },
   "outputs": [],
   "source": []
  }
 ],
 "metadata": {
  "anaconda-cloud": {},
  "kernelspec": {
   "display_name": "Python [default]",
   "language": "python",
   "name": "python2"
  },
  "language_info": {
   "codemirror_mode": {
    "name": "ipython",
    "version": 2
   },
   "file_extension": ".py",
   "mimetype": "text/x-python",
   "name": "python",
   "nbconvert_exporter": "python",
   "pygments_lexer": "ipython2",
   "version": "2.7.12"
  }
 },
 "nbformat": 4,
 "nbformat_minor": 0
}
